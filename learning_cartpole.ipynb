{
  "nbformat": 4,
  "nbformat_minor": 0,
  "metadata": {
    "colab": {
      "name": "Copy of learning-cartpole.ipynb",
      "provenance": [],
      "collapsed_sections": [],
      "authorship_tag": "ABX9TyNvQ+4/KHiE3NRI9pm2Wb0+",
      "include_colab_link": true
    },
    "kernelspec": {
      "name": "python3",
      "display_name": "Python 3"
    }
  },
  "cells": [
    {
      "cell_type": "markdown",
      "metadata": {
        "id": "view-in-github",
        "colab_type": "text"
      },
      "source": [
        "<a href=\"https://colab.research.google.com/github/ruperty/colab/blob/master/learning_cartpole.ipynb\" target=\"_parent\"><img src=\"https://colab.research.google.com/assets/colab-badge.svg\" alt=\"Open In Colab\"/></a>"
      ]
    },
    {
      "cell_type": "code",
      "metadata": {
        "id": "fV5L29-q174H",
        "colab_type": "code",
        "colab": {
          "base_uri": "https://localhost:8080/",
          "height": 34
        },
        "outputId": "71a0e241-dccc-4f7b-d86b-61c76f46f6f5"
      },
      "source": [
        "# install of my own pct library\n",
        "!git clone https://github.com/ruperty/pct.git"
      ],
      "execution_count": 2,
      "outputs": [
        {
          "output_type": "stream",
          "text": [
            "fatal: destination path 'pct' already exists and is not an empty directory.\n"
          ],
          "name": "stdout"
        }
      ]
    },
    {
      "cell_type": "code",
      "metadata": {
        "id": "EouTndFKMScx",
        "colab_type": "code",
        "colab": {}
      },
      "source": [
        "import sys\n",
        "import matplotlib.animation as animation\n",
        "import plotly.graph_objects as go\n",
        "from pct.dl.models.cartpole import CartpoleTuning"
      ],
      "execution_count": 3,
      "outputs": []
    },
    {
      "cell_type": "code",
      "metadata": {
        "id": "uOH-pBqIQTIA",
        "colab_type": "code",
        "colab": {}
      },
      "source": [
        "live_plot = sys.stdin.isatty()\n",
        "offline_plot=False\n",
        "training=True\n",
        "render_gym=False\n",
        "batch_size=10\n",
        "num_runs=10000\n",
        "prnt=True"
      ],
      "execution_count": 4,
      "outputs": []
    },
    {
      "cell_type": "code",
      "metadata": {
        "id": "oCHzkSTtQWcd",
        "colab_type": "code",
        "colab": {}
      },
      "source": [
        "# initial weights/gains\n",
        "weights=[1.45,       0.4,       1.6,       -0.5]"
      ],
      "execution_count": 5,
      "outputs": []
    },
    {
      "cell_type": "code",
      "metadata": {
        "id": "_YLP7wm121DK",
        "colab_type": "code",
        "colab": {
          "base_uri": "https://localhost:8080/",
          "height": 34
        },
        "outputId": "69960319-689b-4ab4-fab1-15ac5ec0fc20"
      },
      "source": [
        "ct = CartpoleTuning(\"Cartpole\", \"CartPole-v1\", 100000, [True, True, True, False], print=prnt)\n",
        "ct.configure(weights=weights, opt_type=\"sgd\", learning_rate=0.01, loss_type=\"rsuse\",  loss_smooth=0.9, plot=13, print=100, num_runs=num_runs)\n"
      ],
      "execution_count": 6,
      "outputs": [
        {
          "output_type": "stream",
          "text": [
            "starting weights     1.450      0.400      1.600      -0.500    \n"
          ],
          "name": "stdout"
        }
      ]
    },
    {
      "cell_type": "code",
      "metadata": {
        "id": "WoJiJQge9ydx",
        "colab_type": "code",
        "colab": {
          "base_uri": "https://localhost:8080/",
          "height": 542
        },
        "outputId": "65621001-f2d0-4787-918f-92a6589fdf7d"
      },
      "source": [
        "plot = go.FigureWidget()\n",
        "plot.add_scatter(y=[]);\n",
        "plot.show()"
      ],
      "execution_count": 7,
      "outputs": [
        {
          "output_type": "display_data",
          "data": {
            "text/html": [
              "<html>\n",
              "<head><meta charset=\"utf-8\" /></head>\n",
              "<body>\n",
              "    <div>\n",
              "            <script src=\"https://cdnjs.cloudflare.com/ajax/libs/mathjax/2.7.5/MathJax.js?config=TeX-AMS-MML_SVG\"></script><script type=\"text/javascript\">if (window.MathJax) {MathJax.Hub.Config({SVG: {font: \"STIX-Web\"}});}</script>\n",
              "                <script type=\"text/javascript\">window.PlotlyConfig = {MathJaxConfig: 'local'};</script>\n",
              "        <script src=\"https://cdn.plot.ly/plotly-latest.min.js\"></script>    \n",
              "            <div id=\"6a6dbcf9-fe20-4496-923c-c3da7efb2a83\" class=\"plotly-graph-div\" style=\"height:525px; width:100%;\"></div>\n",
              "            <script type=\"text/javascript\">\n",
              "                \n",
              "                    window.PLOTLYENV=window.PLOTLYENV || {};\n",
              "                    \n",
              "                if (document.getElementById(\"6a6dbcf9-fe20-4496-923c-c3da7efb2a83\")) {\n",
              "                    Plotly.newPlot(\n",
              "                        '6a6dbcf9-fe20-4496-923c-c3da7efb2a83',\n",
              "                        [{\"type\": \"scatter\", \"uid\": \"2608998c-4da5-44fd-b9b0-7f24c4d29a84\", \"y\": []}],\n",
              "                        {\"template\": {\"data\": {\"bar\": [{\"error_x\": {\"color\": \"#2a3f5f\"}, \"error_y\": {\"color\": \"#2a3f5f\"}, \"marker\": {\"line\": {\"color\": \"#E5ECF6\", \"width\": 0.5}}, \"type\": \"bar\"}], \"barpolar\": [{\"marker\": {\"line\": {\"color\": \"#E5ECF6\", \"width\": 0.5}}, \"type\": \"barpolar\"}], \"carpet\": [{\"aaxis\": {\"endlinecolor\": \"#2a3f5f\", \"gridcolor\": \"white\", \"linecolor\": \"white\", \"minorgridcolor\": \"white\", \"startlinecolor\": \"#2a3f5f\"}, \"baxis\": {\"endlinecolor\": \"#2a3f5f\", \"gridcolor\": \"white\", \"linecolor\": \"white\", \"minorgridcolor\": \"white\", \"startlinecolor\": \"#2a3f5f\"}, \"type\": \"carpet\"}], \"choropleth\": [{\"colorbar\": {\"outlinewidth\": 0, \"ticks\": \"\"}, \"type\": \"choropleth\"}], \"contour\": [{\"colorbar\": {\"outlinewidth\": 0, \"ticks\": \"\"}, \"colorscale\": [[0.0, \"#0d0887\"], [0.1111111111111111, \"#46039f\"], [0.2222222222222222, \"#7201a8\"], [0.3333333333333333, \"#9c179e\"], [0.4444444444444444, \"#bd3786\"], [0.5555555555555556, \"#d8576b\"], [0.6666666666666666, \"#ed7953\"], [0.7777777777777778, \"#fb9f3a\"], [0.8888888888888888, \"#fdca26\"], [1.0, \"#f0f921\"]], \"type\": \"contour\"}], \"contourcarpet\": [{\"colorbar\": {\"outlinewidth\": 0, \"ticks\": \"\"}, \"type\": \"contourcarpet\"}], \"heatmap\": [{\"colorbar\": {\"outlinewidth\": 0, \"ticks\": \"\"}, \"colorscale\": [[0.0, \"#0d0887\"], [0.1111111111111111, \"#46039f\"], [0.2222222222222222, \"#7201a8\"], [0.3333333333333333, \"#9c179e\"], [0.4444444444444444, \"#bd3786\"], [0.5555555555555556, \"#d8576b\"], [0.6666666666666666, \"#ed7953\"], [0.7777777777777778, \"#fb9f3a\"], [0.8888888888888888, \"#fdca26\"], [1.0, \"#f0f921\"]], \"type\": \"heatmap\"}], \"heatmapgl\": [{\"colorbar\": {\"outlinewidth\": 0, \"ticks\": \"\"}, \"colorscale\": [[0.0, \"#0d0887\"], [0.1111111111111111, \"#46039f\"], [0.2222222222222222, \"#7201a8\"], [0.3333333333333333, \"#9c179e\"], [0.4444444444444444, \"#bd3786\"], [0.5555555555555556, \"#d8576b\"], [0.6666666666666666, \"#ed7953\"], [0.7777777777777778, \"#fb9f3a\"], [0.8888888888888888, \"#fdca26\"], [1.0, \"#f0f921\"]], \"type\": \"heatmapgl\"}], \"histogram\": [{\"marker\": {\"colorbar\": {\"outlinewidth\": 0, \"ticks\": \"\"}}, \"type\": \"histogram\"}], \"histogram2d\": [{\"colorbar\": {\"outlinewidth\": 0, \"ticks\": \"\"}, \"colorscale\": [[0.0, \"#0d0887\"], [0.1111111111111111, \"#46039f\"], [0.2222222222222222, \"#7201a8\"], [0.3333333333333333, \"#9c179e\"], [0.4444444444444444, \"#bd3786\"], [0.5555555555555556, \"#d8576b\"], [0.6666666666666666, \"#ed7953\"], [0.7777777777777778, \"#fb9f3a\"], [0.8888888888888888, \"#fdca26\"], [1.0, \"#f0f921\"]], \"type\": \"histogram2d\"}], \"histogram2dcontour\": [{\"colorbar\": {\"outlinewidth\": 0, \"ticks\": \"\"}, \"colorscale\": [[0.0, \"#0d0887\"], [0.1111111111111111, \"#46039f\"], [0.2222222222222222, \"#7201a8\"], [0.3333333333333333, \"#9c179e\"], [0.4444444444444444, \"#bd3786\"], [0.5555555555555556, \"#d8576b\"], [0.6666666666666666, \"#ed7953\"], [0.7777777777777778, \"#fb9f3a\"], [0.8888888888888888, \"#fdca26\"], [1.0, \"#f0f921\"]], \"type\": \"histogram2dcontour\"}], \"mesh3d\": [{\"colorbar\": {\"outlinewidth\": 0, \"ticks\": \"\"}, \"type\": \"mesh3d\"}], \"parcoords\": [{\"line\": {\"colorbar\": {\"outlinewidth\": 0, \"ticks\": \"\"}}, \"type\": \"parcoords\"}], \"pie\": [{\"automargin\": true, \"type\": \"pie\"}], \"scatter\": [{\"marker\": {\"colorbar\": {\"outlinewidth\": 0, \"ticks\": \"\"}}, \"type\": \"scatter\"}], \"scatter3d\": [{\"line\": {\"colorbar\": {\"outlinewidth\": 0, \"ticks\": \"\"}}, \"marker\": {\"colorbar\": {\"outlinewidth\": 0, \"ticks\": \"\"}}, \"type\": \"scatter3d\"}], \"scattercarpet\": [{\"marker\": {\"colorbar\": {\"outlinewidth\": 0, \"ticks\": \"\"}}, \"type\": \"scattercarpet\"}], \"scattergeo\": [{\"marker\": {\"colorbar\": {\"outlinewidth\": 0, \"ticks\": \"\"}}, \"type\": \"scattergeo\"}], \"scattergl\": [{\"marker\": {\"colorbar\": {\"outlinewidth\": 0, \"ticks\": \"\"}}, \"type\": \"scattergl\"}], \"scattermapbox\": [{\"marker\": {\"colorbar\": {\"outlinewidth\": 0, \"ticks\": \"\"}}, \"type\": \"scattermapbox\"}], \"scatterpolar\": [{\"marker\": {\"colorbar\": {\"outlinewidth\": 0, \"ticks\": \"\"}}, \"type\": \"scatterpolar\"}], \"scatterpolargl\": [{\"marker\": {\"colorbar\": {\"outlinewidth\": 0, \"ticks\": \"\"}}, \"type\": \"scatterpolargl\"}], \"scatterternary\": [{\"marker\": {\"colorbar\": {\"outlinewidth\": 0, \"ticks\": \"\"}}, \"type\": \"scatterternary\"}], \"surface\": [{\"colorbar\": {\"outlinewidth\": 0, \"ticks\": \"\"}, \"colorscale\": [[0.0, \"#0d0887\"], [0.1111111111111111, \"#46039f\"], [0.2222222222222222, \"#7201a8\"], [0.3333333333333333, \"#9c179e\"], [0.4444444444444444, \"#bd3786\"], [0.5555555555555556, \"#d8576b\"], [0.6666666666666666, \"#ed7953\"], [0.7777777777777778, \"#fb9f3a\"], [0.8888888888888888, \"#fdca26\"], [1.0, \"#f0f921\"]], \"type\": \"surface\"}], \"table\": [{\"cells\": {\"fill\": {\"color\": \"#EBF0F8\"}, \"line\": {\"color\": \"white\"}}, \"header\": {\"fill\": {\"color\": \"#C8D4E3\"}, \"line\": {\"color\": \"white\"}}, \"type\": \"table\"}]}, \"layout\": {\"annotationdefaults\": {\"arrowcolor\": \"#2a3f5f\", \"arrowhead\": 0, \"arrowwidth\": 1}, \"coloraxis\": {\"colorbar\": {\"outlinewidth\": 0, \"ticks\": \"\"}}, \"colorscale\": {\"diverging\": [[0, \"#8e0152\"], [0.1, \"#c51b7d\"], [0.2, \"#de77ae\"], [0.3, \"#f1b6da\"], [0.4, \"#fde0ef\"], [0.5, \"#f7f7f7\"], [0.6, \"#e6f5d0\"], [0.7, \"#b8e186\"], [0.8, \"#7fbc41\"], [0.9, \"#4d9221\"], [1, \"#276419\"]], \"sequential\": [[0.0, \"#0d0887\"], [0.1111111111111111, \"#46039f\"], [0.2222222222222222, \"#7201a8\"], [0.3333333333333333, \"#9c179e\"], [0.4444444444444444, \"#bd3786\"], [0.5555555555555556, \"#d8576b\"], [0.6666666666666666, \"#ed7953\"], [0.7777777777777778, \"#fb9f3a\"], [0.8888888888888888, \"#fdca26\"], [1.0, \"#f0f921\"]], \"sequentialminus\": [[0.0, \"#0d0887\"], [0.1111111111111111, \"#46039f\"], [0.2222222222222222, \"#7201a8\"], [0.3333333333333333, \"#9c179e\"], [0.4444444444444444, \"#bd3786\"], [0.5555555555555556, \"#d8576b\"], [0.6666666666666666, \"#ed7953\"], [0.7777777777777778, \"#fb9f3a\"], [0.8888888888888888, \"#fdca26\"], [1.0, \"#f0f921\"]]}, \"colorway\": [\"#636efa\", \"#EF553B\", \"#00cc96\", \"#ab63fa\", \"#FFA15A\", \"#19d3f3\", \"#FF6692\", \"#B6E880\", \"#FF97FF\", \"#FECB52\"], \"font\": {\"color\": \"#2a3f5f\"}, \"geo\": {\"bgcolor\": \"white\", \"lakecolor\": \"white\", \"landcolor\": \"#E5ECF6\", \"showlakes\": true, \"showland\": true, \"subunitcolor\": \"white\"}, \"hoverlabel\": {\"align\": \"left\"}, \"hovermode\": \"closest\", \"mapbox\": {\"style\": \"light\"}, \"paper_bgcolor\": \"white\", \"plot_bgcolor\": \"#E5ECF6\", \"polar\": {\"angularaxis\": {\"gridcolor\": \"white\", \"linecolor\": \"white\", \"ticks\": \"\"}, \"bgcolor\": \"#E5ECF6\", \"radialaxis\": {\"gridcolor\": \"white\", \"linecolor\": \"white\", \"ticks\": \"\"}}, \"scene\": {\"xaxis\": {\"backgroundcolor\": \"#E5ECF6\", \"gridcolor\": \"white\", \"gridwidth\": 2, \"linecolor\": \"white\", \"showbackground\": true, \"ticks\": \"\", \"zerolinecolor\": \"white\"}, \"yaxis\": {\"backgroundcolor\": \"#E5ECF6\", \"gridcolor\": \"white\", \"gridwidth\": 2, \"linecolor\": \"white\", \"showbackground\": true, \"ticks\": \"\", \"zerolinecolor\": \"white\"}, \"zaxis\": {\"backgroundcolor\": \"#E5ECF6\", \"gridcolor\": \"white\", \"gridwidth\": 2, \"linecolor\": \"white\", \"showbackground\": true, \"ticks\": \"\", \"zerolinecolor\": \"white\"}}, \"shapedefaults\": {\"line\": {\"color\": \"#2a3f5f\"}}, \"ternary\": {\"aaxis\": {\"gridcolor\": \"white\", \"linecolor\": \"white\", \"ticks\": \"\"}, \"baxis\": {\"gridcolor\": \"white\", \"linecolor\": \"white\", \"ticks\": \"\"}, \"bgcolor\": \"#E5ECF6\", \"caxis\": {\"gridcolor\": \"white\", \"linecolor\": \"white\", \"ticks\": \"\"}}, \"title\": {\"x\": 0.05}, \"xaxis\": {\"automargin\": true, \"gridcolor\": \"white\", \"linecolor\": \"white\", \"ticks\": \"\", \"title\": {\"standoff\": 15}, \"zerolinecolor\": \"white\", \"zerolinewidth\": 2}, \"yaxis\": {\"automargin\": true, \"gridcolor\": \"white\", \"linecolor\": \"white\", \"ticks\": \"\", \"title\": {\"standoff\": 15}, \"zerolinecolor\": \"white\", \"zerolinewidth\": 2}}}},\n",
              "                        {\"responsive\": true}\n",
              "                    ).then(function(){\n",
              "                            \n",
              "var gd = document.getElementById('6a6dbcf9-fe20-4496-923c-c3da7efb2a83');\n",
              "var x = new MutationObserver(function (mutations, observer) {{\n",
              "        var display = window.getComputedStyle(gd).display;\n",
              "        if (!display || display === 'none') {{\n",
              "            console.log([gd, 'removed!']);\n",
              "            Plotly.purge(gd);\n",
              "            observer.disconnect();\n",
              "        }}\n",
              "}});\n",
              "\n",
              "// Listen for the removal of the full notebook cells\n",
              "var notebookContainer = gd.closest('#notebook-container');\n",
              "if (notebookContainer) {{\n",
              "    x.observe(notebookContainer, {childList: true});\n",
              "}}\n",
              "\n",
              "// Listen for the clearing of the current output cell\n",
              "var outputEl = gd.closest('.output');\n",
              "if (outputEl) {{\n",
              "    x.observe(outputEl, {childList: true});\n",
              "}}\n",
              "\n",
              "                        })\n",
              "                };\n",
              "                \n",
              "            </script>\n",
              "        </div>\n",
              "</body>\n",
              "</html>"
            ]
          },
          "metadata": {
            "tags": []
          }
        }
      ]
    },
    {
      "cell_type": "code",
      "metadata": {
        "id": "BhnvqxfD_fye",
        "colab_type": "code",
        "colab": {}
      },
      "source": [
        "ct.display_configure(x=800, y=200, width=5, height=4, window=1000, live=live_plot, offline=offline_plot, render=render_gym, widget=plot, widget_frequency=100)"
      ],
      "execution_count": 8,
      "outputs": []
    },
    {
      "cell_type": "code",
      "metadata": {
        "id": "oqZK17B83El8",
        "colab_type": "code",
        "colab": {
          "base_uri": "https://localhost:8080/",
          "height": 1000
        },
        "outputId": "5ca0a5cb-9fc5-4b46-9390-df28aa79953e"
      },
      "source": [
        "out = ct.run( batch_size, training)        \n",
        "#   ct.show()\n",
        "#print(out)\n",
        "        \n",
        "print(\"mean\", ct.data.get_mean().numpy())\n",
        "        \n",
        "ct.close()       "
      ],
      "execution_count": 9,
      "outputs": [
        {
          "output_type": "stream",
          "text": [
            " 100 loss 0.222      1.449      0.406      1.603      -0.500     \n",
            " 200 loss 0.232      1.449      0.410      1.605      -0.500     \n",
            " 300 loss 0.256      1.448      0.413      1.607      -0.500     \n",
            " 400 loss 0.258      1.447      0.416      1.610      -0.500     \n",
            " 500 loss 0.200      1.445      0.417      1.612      -0.500     \n",
            " 600 loss 0.231      1.445      0.421      1.614      -0.500     \n",
            " 700 loss 0.309      1.444      0.422      1.617      -0.500     \n",
            " 800 loss 0.347      1.442      0.423      1.619      -0.500     \n",
            " 900 loss 0.268      1.440      0.423      1.621      -0.500     \n",
            "1000 loss 0.254      1.440      0.427      1.624      -0.500     \n",
            "1100 loss 0.370      1.439      0.428      1.626      -0.500     \n",
            "1200 loss 0.401      1.437      0.426      1.628      -0.500     \n",
            "1300 loss 0.362      1.434      0.422      1.630      -0.500     \n",
            "1400 loss 0.297      1.433      0.418      1.631      -0.500     \n",
            "1500 loss 0.446      1.431      0.411      1.632      -0.500     \n",
            "1600 loss 0.504      1.429      0.406      1.634      -0.500     \n",
            "1700 loss 0.566      1.426      0.401      1.635      -0.500     \n",
            "1800 loss 0.405      1.423      0.395      1.636      -0.500     \n",
            "1900 loss 0.357      1.420      0.390      1.637      -0.500     \n",
            "2000 loss 0.320      1.418      0.384      1.638      -0.500     \n",
            "2100 loss 0.362      1.415      0.381      1.640      -0.500     \n",
            "2200 loss 0.429      1.412      0.373      1.641      -0.500     \n",
            "2300 loss 0.467      1.408      0.365      1.642      -0.500     \n",
            "2400 loss 0.393      1.403      0.356      1.643      -0.500     \n",
            "2500 loss 0.398      1.398      0.349      1.644      -0.500     \n",
            "2600 loss 0.490      1.393      0.342      1.644      -0.500     \n",
            "2700 loss 0.525      1.390      0.336      1.646      -0.500     \n",
            "2800 loss 0.593      1.387      0.330      1.647      -0.500     \n",
            "2900 loss 0.609      1.384      0.327      1.648      -0.500     \n",
            "3000 loss 0.415      1.380      0.323      1.649      -0.500     \n",
            "3100 loss 0.352      1.374      0.320      1.650      -0.500     \n",
            "3200 loss 0.448      1.371      0.317      1.651      -0.500     \n",
            "3300 loss 0.459      1.369      0.314      1.652      -0.500     \n",
            "3400 loss 0.377      1.367      0.315      1.654      -0.500     \n",
            "3500 loss 0.256      1.363      0.315      1.655      -0.500     \n",
            "3600 loss 0.329      1.361      0.316      1.657      -0.500     \n",
            "3700 loss 0.341      1.360      0.319      1.658      -0.500     \n",
            "3800 loss 0.312      1.359      0.323      1.660      -0.500     \n",
            "3900 loss 0.287      1.357      0.328      1.662      -0.500     \n",
            "4000 loss 0.207      1.355      0.332      1.664      -0.500     \n",
            "4100 loss 0.204      1.354      0.338      1.667      -0.500     \n",
            "4200 loss 0.170      1.353      0.347      1.669      -0.500     \n",
            "4300 loss 0.154      1.353      0.356      1.672      -0.500     \n",
            "4400 loss 0.151      1.353      0.366      1.675      -0.500     \n",
            "4500 loss 0.151      1.353      0.373      1.678      -0.500     \n",
            "4600 loss 0.240      1.353      0.386      1.682      -0.500     \n",
            "4700 loss 0.137      1.353      0.394      1.685      -0.500     \n",
            "4800 loss 0.136      1.352      0.401      1.687      -0.500     \n",
            "4900 loss 0.135      1.352      0.408      1.689      -0.500     \n",
            "5000 loss 0.133      1.352      0.415      1.692      -0.500     \n",
            "5100 loss 0.134      1.352      0.422      1.694      -0.500     \n",
            "5200 loss 0.153      1.352      0.429      1.697      -0.500     \n",
            "5300 loss 0.142      1.352      0.435      1.700      -0.500     \n",
            "5400 loss 0.195      1.352      0.441      1.703      -0.500     \n",
            "5500 loss 0.176      1.352      0.448      1.706      -0.500     \n",
            "5600 loss 0.133      1.352      0.455      1.708      -0.500     \n",
            "5700 loss 0.172      1.352      0.462      1.712      -0.500     \n",
            "5800 loss 0.212      1.352      0.468      1.715      -0.500     \n",
            "5900 loss 0.132      1.352      0.474      1.717      -0.500     \n",
            "6000 loss 0.129      1.352      0.479      1.720      -0.500     \n",
            "6100 loss 0.128      1.352      0.484      1.723      -0.500     \n",
            "6200 loss 0.133      1.352      0.490      1.725      -0.500     \n",
            "6300 loss 0.138      1.352      0.495      1.728      -0.500     \n",
            "6400 loss 0.156      1.352      0.499      1.731      -0.500     \n",
            "6500 loss 0.149      1.352      0.504      1.734      -0.500     \n",
            "6600 loss 0.133      1.352      0.508      1.736      -0.500     \n",
            "6700 loss 0.126      1.352      0.513      1.739      -0.500     \n",
            "6800 loss 0.128      1.352      0.517      1.741      -0.500     \n",
            "6900 loss 0.206      1.352      0.522      1.745      -0.500     \n",
            "7000 loss 0.134      1.352      0.526      1.747      -0.500     \n",
            "7100 loss 0.139      1.352      0.530      1.750      -0.500     \n",
            "7200 loss 0.175      1.352      0.534      1.753      -0.500     \n",
            "7300 loss 0.128      1.352      0.537      1.756      -0.500     \n",
            "7400 loss 0.237      1.352      0.541      1.759      -0.500     \n",
            "7500 loss 0.136      1.352      0.544      1.761      -0.500     \n",
            "7600 loss 0.148      1.352      0.547      1.764      -0.500     \n",
            "7700 loss 0.152      1.352      0.550      1.767      -0.500     \n",
            "7800 loss 0.130      1.352      0.553      1.770      -0.500     \n",
            "7900 loss 0.236      1.352      0.557      1.773      -0.500     \n",
            "8000 loss 0.129      1.352      0.559      1.775      -0.500     \n",
            "8100 loss 0.217      1.352      0.562      1.778      -0.500     \n",
            "8200 loss 0.127      1.352      0.564      1.781      -0.500     \n",
            "8300 loss 0.122      1.352      0.567      1.783      -0.500     \n",
            "8400 loss 0.124      1.352      0.569      1.785      -0.500     \n",
            "8500 loss 0.137      1.352      0.572      1.788      -0.500     \n",
            "8600 loss 0.156      1.352      0.574      1.791      -0.500     \n",
            "8700 loss 0.174      1.353      0.576      1.794      -0.500     \n",
            "8800 loss 0.169      1.353      0.578      1.796      -0.500     \n",
            "8900 loss 0.151      1.353      0.579      1.798      -0.500     \n",
            "9000 loss 0.134      1.353      0.582      1.801      -0.500     \n",
            "9100 loss 0.123      1.353      0.584      1.804      -0.500     \n",
            "9200 loss 0.162      1.353      0.586      1.806      -0.500     \n",
            "9300 loss 0.201      1.353      0.587      1.809      -0.500     \n",
            "9400 loss 0.134      1.353      0.589      1.812      -0.500     \n",
            "9500 loss 0.172      1.353      0.590      1.814      -0.500     \n",
            "9600 loss 0.200      1.353      0.592      1.817      -0.500     \n",
            "9700 loss 0.123      1.353      0.593      1.819      -0.500     \n",
            "9800 loss 0.121      1.354      0.595      1.821      -0.500     \n",
            "9900 loss 0.123      1.354      0.596      1.824      -0.500     \n",
            "10000 loss 0.124      1.354      0.597      1.826      -0.500     \n",
            "mean 0.25025052\n"
          ],
          "name": "stdout"
        }
      ]
    },
    {
      "cell_type": "code",
      "metadata": {
        "id": "sFDFzgbx4WUp",
        "colab_type": "code",
        "colab": {}
      },
      "source": [
        ""
      ],
      "execution_count": null,
      "outputs": []
    },
    {
      "cell_type": "code",
      "metadata": {
        "id": "Gzf_EZXoaVGy",
        "colab_type": "code",
        "colab": {}
      },
      "source": [
        ""
      ],
      "execution_count": null,
      "outputs": []
    }
  ]
}