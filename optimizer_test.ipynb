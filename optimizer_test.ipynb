{
  "nbformat": 4,
  "nbformat_minor": 0,
  "metadata": {
    "colab": {
      "name": "optimizer-test.ipynb",
      "provenance": [],
      "authorship_tag": "ABX9TyPvUlOnM3Af2K+n7VBSiX7i",
      "include_colab_link": true
    },
    "kernelspec": {
      "name": "python3",
      "display_name": "Python 3"
    }
  },
  "cells": [
    {
      "cell_type": "markdown",
      "metadata": {
        "id": "view-in-github",
        "colab_type": "text"
      },
      "source": [
        "<a href=\"https://colab.research.google.com/github/ruperty/colab/blob/master/optimizer_test.ipynb\" target=\"_parent\"><img src=\"https://colab.research.google.com/assets/colab-badge.svg\" alt=\"Open In Colab\"/></a>"
      ]
    },
    {
      "cell_type": "code",
      "metadata": {
        "id": "mlT6hvWWKhY6",
        "colab_type": "code",
        "colab": {}
      },
      "source": [
        "import tensorflow as tf\n",
        "import numpy as np \n",
        "from tensorflow.keras.models import Sequential\n",
        "from tensorflow.keras import layers\n",
        "from tensorflow.python.framework import dtypes\n",
        "from tensorflow.python.keras.optimizer_v2 import optimizer_v2\n",
        "from tensorflow.python.util.tf_export import keras_export"
      ],
      "execution_count": 4,
      "outputs": []
    },
    {
      "cell_type": "code",
      "metadata": {
        "id": "o2DwnD0YKpAW",
        "colab_type": "code",
        "colab": {}
      },
      "source": [
        "@keras_export(\"keras.optimizers.Ecoli\")\n",
        "class Ecoli(optimizer_v2.OptimizerV2):\n",
        "  \"\"\"Ecoli optimizer.\n",
        "\n",
        "  Computes:\n",
        "  ```\n",
        "  if loss has increased\n",
        "  theta(t+1) = theta(t) - learning_rate * loss * random_gradient\n",
        "  ```\n",
        "\n",
        "  # References\n",
        "      Powers, WT\n",
        "      http://www.livingcontrolsystems.com/demos/ecoli/ecoli.pdf\n",
        "  \"\"\"\n",
        "\n",
        "  def __init__(self,\n",
        "               learning_rate=0.01,\n",
        "               name=\"Ecoli\",\n",
        "               **kwargs):\n",
        "    \"\"\"Construct a new Ecoli optimizer.\n",
        "\n",
        "    Arguments:\n",
        "      learning_rate: float hyperparameter >= 0. Learning rate.\n",
        "      name: Optional name prefix for the operations created when applying\n",
        "        gradients.  Defaults to 'Ecoli'.\n",
        "      **kwargs: keyword arguments. Allowed to be {`clipnorm`, `clipvalue`, `lr`,\n",
        "        `decay`}. `clipnorm` is clip gradients by norm; `clipvalue` is clip\n",
        "        gradients by value, `decay` is included for backward compatibility to\n",
        "        allow time inverse decay of learning rate. `lr` is included for backward\n",
        "        compatibility, recommended to use `learning_rate` instead.\n",
        "    \"\"\"\n",
        "    super(Ecoli, self).__init__(name, **kwargs)\n",
        "    self.loss_historical=tf.Variable(0.0)\n",
        "    self.learning_rate=learning_rate\n",
        "\n",
        "  def minimize(self, loss, var_list, grad_loss=None, name=None):\n",
        "        grads_and_vars = self._compute_gradients(\n",
        "            loss, var_list=var_list, grad_loss=grad_loss)\n",
        "    \n",
        "        return self.apply_gradients(grads_and_vars, name=name)\n",
        "\n",
        "  def _resource_apply_dense(self, grad, var, apply_state=None):\n",
        "      #print(grad.numpy())\n",
        "      #self.minimize( loss, var):\n",
        "      tf.print(grad)      \n",
        "      tf.print(var)      \n",
        "      return apply_ecoli(var, self.learning_rate, grad, self.loss_historical)\n",
        "\n",
        "  def _compute_gradients(self, loss, var_list, grad_loss=None):\n",
        "        loss_value = loss()\n",
        "        print(loss_value)\n",
        "        print(self.loss_historical)\n",
        "        print(var_list)\n",
        "        \n",
        "        if loss_value >= self.loss_historical:\n",
        "            grads = tf.random.uniform(shape=(len(var_list),), minval=-1., maxval=1.)\n",
        "            \n",
        "        self.loss_historical.assign(loss_value)\n",
        "        \n",
        "        print(grads)\n",
        "        #var_list += grads\n",
        "        grads_and_vars = list(zip(grads, var_list))\n",
        "        self._assert_valid_dtypes([\n",
        "            v for g, v in grads_and_vars\n",
        "            if g is not None and v.dtype != dtypes.resource\n",
        "        ])\n",
        "    \n",
        "        return grads_and_vars\n",
        "\n",
        "  def _create_slots(self, var_list):\n",
        "    pass #x=0 # do nothing\n",
        "\n",
        "\n",
        "\n",
        "  def get_config(self):\n",
        "    config = super(Ecoli, self).get_config()\n",
        "    config.update({\n",
        "        \"learning_rate\": self._serialize_hyperparameter(\"learning_rate\"),\n",
        "    })\n",
        "    return config"
      ],
      "execution_count": 2,
      "outputs": []
    },
    {
      "cell_type": "code",
      "metadata": {
        "id": "RE7txo8GKsd0",
        "colab_type": "code",
        "colab": {}
      },
      "source": [
        "# I am trying to apply the weight changes here, but not sure if that is what this function is for\n",
        "def apply_ecoli(var, lr, grad, loss):\n",
        "    \n",
        "    tf.print(\"apply_ecoli\")\n",
        "    result = var + lr * grad * loss\n",
        "    return result"
      ],
      "execution_count": 6,
      "outputs": []
    },
    {
      "cell_type": "code",
      "metadata": {
        "id": "1rysX-ILKvAN",
        "colab_type": "code",
        "colab": {}
      },
      "source": [
        "class Linear(layers.Layer):\n",
        "    def __init__(self,   weight_init=1, name='Linear'):\n",
        "        super(Linear, self).__init__(name=name)\n",
        "        self.wi=weight_init\n",
        "        \n",
        "    def build(self, input_shape):\n",
        "        self.w = tf.Variable(\n",
        "            initial_value=tf.constant(np.full((1,1), self.wi), dtype=tf.float32 ),\n",
        "            trainable=True,\n",
        "        )\n",
        "\n",
        "    def call(self, inputs):\n",
        "        self.add_metric(self.w[0], name='weight', aggregation='mean')\n",
        "        return inputs * self.w[0] \n",
        "    \n",
        "    def get_config(self):\n",
        "        return {'wi': self.wi}\n"
      ],
      "execution_count": 5,
      "outputs": []
    },
    {
      "cell_type": "code",
      "metadata": {
        "id": "OjIsgonPK5XM",
        "colab_type": "code",
        "colab": {
          "base_uri": "https://localhost:8080/",
          "height": 34
        },
        "outputId": "5f94b1fb-55c0-4b8b-a5e6-3d21896e0c37"
      },
      "source": [
        "scale=1\n",
        "reference=0\n",
        "row = np.array([1, 2, 5])        \n",
        "print(row)"
      ],
      "execution_count": 10,
      "outputs": [
        {
          "output_type": "stream",
          "text": [
            "[1 2 5]\n"
          ],
          "name": "stdout"
        }
      ]
    },
    {
      "cell_type": "code",
      "metadata": {
        "id": "xLTF6YTQLBlk",
        "colab_type": "code",
        "colab": {
          "base_uri": "https://localhost:8080/",
          "height": 34
        },
        "outputId": "1b4b92a4-865f-43f5-9976-7f907d97c8d0"
      },
      "source": [
        "X = tf.constant(  np.array([row]), dtype=tf.float32 )/scale\n",
        "Y = tf.constant(np.full((1,row.size), reference), dtype=tf.float32 )/scale\n",
        "dataset = tf.data.Dataset.from_tensor_slices(( X , Y )) \n",
        "dataset = dataset.shuffle( 1 ).repeat( 1 ).batch( 1 )\n",
        "iterator = dataset.__iter__()\n",
        "x_batch , y_batch = iterator.get_next()\n",
        "print(X)"
      ],
      "execution_count": 11,
      "outputs": [
        {
          "output_type": "stream",
          "text": [
            "tf.Tensor([[1. 2. 5.]], shape=(1, 3), dtype=float32)\n"
          ],
          "name": "stdout"
        }
      ]
    },
    {
      "cell_type": "code",
      "metadata": {
        "id": "HMOOhfcKLD1k",
        "colab_type": "code",
        "colab": {}
      },
      "source": [
        "model = Sequential( [ Linear( 0.5 ) ])\n",
        "model.build(x_batch.shape)"
      ],
      "execution_count": 15,
      "outputs": []
    },
    {
      "cell_type": "code",
      "metadata": {
        "id": "dKbvfiVpLNTc",
        "colab_type": "code",
        "colab": {}
      },
      "source": [
        "optimizer = Ecoli(0.001)\n",
        "model.compile(loss='mse', optimizer=optimizer)\n"
      ],
      "execution_count": 17,
      "outputs": []
    },
    {
      "cell_type": "code",
      "metadata": {
        "id": "HsrH_96gLXZc",
        "colab_type": "code",
        "colab": {
          "base_uri": "https://localhost:8080/",
          "height": 272
        },
        "outputId": "24272ec5-e806-4976-934a-7104214864a6"
      },
      "source": [
        "history = model.fit(  x_batch , y_batch , epochs=3, verbose=1)"
      ],
      "execution_count": 18,
      "outputs": [
        {
          "output_type": "stream",
          "text": [
            "Epoch 1/3\n",
            "[[10.000001]]\n",
            "[[0.5]]\n",
            "apply_ecoli\n",
            "1/1 [==============================] - 0s 2ms/step - loss: 2.5000 - weight: 0.5000\n",
            "Epoch 2/3\n",
            "[[10.000001]]\n",
            "[[0.5]]\n",
            "apply_ecoli\n",
            "1/1 [==============================] - 0s 2ms/step - loss: 2.5000 - weight: 0.5000\n",
            "Epoch 3/3\n",
            "[[10.000001]]\n",
            "[[0.5]]\n",
            "apply_ecoli\n",
            "1/1 [==============================] - 0s 3ms/step - loss: 2.5000 - weight: 0.5000\n"
          ],
          "name": "stdout"
        }
      ]
    },
    {
      "cell_type": "code",
      "metadata": {
        "id": "HEWRkEmJLdYc",
        "colab_type": "code",
        "colab": {}
      },
      "source": [
        ""
      ],
      "execution_count": null,
      "outputs": []
    }
  ]
}