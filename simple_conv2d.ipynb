{
  "nbformat": 4,
  "nbformat_minor": 0,
  "metadata": {
    "kernelspec": {
      "display_name": "Python 3",
      "language": "python",
      "name": "python3"
    },
    "language_info": {
      "codemirror_mode": {
        "name": "ipython",
        "version": 3
      },
      "file_extension": ".py",
      "mimetype": "text/x-python",
      "name": "python",
      "nbconvert_exporter": "python",
      "pygments_lexer": "ipython3",
      "version": "3.6.10"
    },
    "toc": {
      "base_numbering": 1,
      "nav_menu": {},
      "number_sections": true,
      "sideBar": true,
      "skip_h1_title": false,
      "title_cell": "Table of Contents",
      "title_sidebar": "Contents",
      "toc_cell": false,
      "toc_position": {},
      "toc_section_display": true,
      "toc_window_display": false
    },
    "colab": {
      "name": "simple-conv2d.ipynb",
      "provenance": [],
      "collapsed_sections": [],
      "include_colab_link": true
    },
    "widgets": {
      "application/vnd.jupyter.widget-state+json": {
        "82f7e1e9b4ef4992aee04d48784d5d35": {
          "model_module": "plotlywidget",
          "model_name": "FigureModel",
          "state": {
            "_view_name": "FigureView",
            "_py2js_animate": {},
            "_py2js_removeLayoutProps": {},
            "_last_trace_edit_id": 61,
            "_view_module": "plotlywidget",
            "_model_module_version": "^1.4.0",
            "_view_count": 0,
            "_js2py_relayout": {},
            "_py2js_moveTraces": {},
            "_py2js_addTraces": {},
            "_model_module": "plotlywidget",
            "_py2js_relayout": {},
            "_js2py_pointsCallback": {},
            "_js2py_update": {},
            "_js2py_restyle": {},
            "_py2js_removeTraceProps": {},
            "_py2js_deleteTraces": {},
            "_dom_classes": [],
            "_model_name": "FigureModel",
            "_layout": {
              "title": {
                "text": "Sub-image and Weights"
              },
              "scene2": {
                "domain": {
                  "y": [
                    0,
                    1
                  ],
                  "x": [
                    0.55,
                    1
                  ]
                }
              },
              "scene": {
                "domain": {
                  "y": [
                    0,
                    1
                  ],
                  "x": [
                    0,
                    0.45
                  ]
                }
              },
              "height": 600,
              "width": 900,
              "template": {
                "layout": {
                  "shapedefaults": {
                    "line": {
                      "color": "#2a3f5f"
                    }
                  },
                  "polar": {
                    "radialaxis": {
                      "ticks": "",
                      "gridcolor": "white",
                      "linecolor": "white"
                    },
                    "bgcolor": "#E5ECF6",
                    "angularaxis": {
                      "ticks": "",
                      "gridcolor": "white",
                      "linecolor": "white"
                    }
                  },
                  "colorway": [
                    "#636efa",
                    "#EF553B",
                    "#00cc96",
                    "#ab63fa",
                    "#FFA15A",
                    "#19d3f3",
                    "#FF6692",
                    "#B6E880",
                    "#FF97FF",
                    "#FECB52"
                  ],
                  "xaxis": {
                    "automargin": true,
                    "title": {
                      "standoff": 15
                    },
                    "zerolinewidth": 2,
                    "ticks": "",
                    "zerolinecolor": "white",
                    "gridcolor": "white",
                    "linecolor": "white"
                  },
                  "colorscale": {
                    "diverging": [
                      [
                        0,
                        "#8e0152"
                      ],
                      [
                        0.1,
                        "#c51b7d"
                      ],
                      [
                        0.2,
                        "#de77ae"
                      ],
                      [
                        0.3,
                        "#f1b6da"
                      ],
                      [
                        0.4,
                        "#fde0ef"
                      ],
                      [
                        0.5,
                        "#f7f7f7"
                      ],
                      [
                        0.6,
                        "#e6f5d0"
                      ],
                      [
                        0.7,
                        "#b8e186"
                      ],
                      [
                        0.8,
                        "#7fbc41"
                      ],
                      [
                        0.9,
                        "#4d9221"
                      ],
                      [
                        1,
                        "#276419"
                      ]
                    ],
                    "sequential": [
                      [
                        0,
                        "#0d0887"
                      ],
                      [
                        0.1111111111111111,
                        "#46039f"
                      ],
                      [
                        0.2222222222222222,
                        "#7201a8"
                      ],
                      [
                        0.3333333333333333,
                        "#9c179e"
                      ],
                      [
                        0.4444444444444444,
                        "#bd3786"
                      ],
                      [
                        0.5555555555555556,
                        "#d8576b"
                      ],
                      [
                        0.6666666666666666,
                        "#ed7953"
                      ],
                      [
                        0.7777777777777778,
                        "#fb9f3a"
                      ],
                      [
                        0.8888888888888888,
                        "#fdca26"
                      ],
                      [
                        1,
                        "#f0f921"
                      ]
                    ],
                    "sequentialminus": [
                      [
                        0,
                        "#0d0887"
                      ],
                      [
                        0.1111111111111111,
                        "#46039f"
                      ],
                      [
                        0.2222222222222222,
                        "#7201a8"
                      ],
                      [
                        0.3333333333333333,
                        "#9c179e"
                      ],
                      [
                        0.4444444444444444,
                        "#bd3786"
                      ],
                      [
                        0.5555555555555556,
                        "#d8576b"
                      ],
                      [
                        0.6666666666666666,
                        "#ed7953"
                      ],
                      [
                        0.7777777777777778,
                        "#fb9f3a"
                      ],
                      [
                        0.8888888888888888,
                        "#fdca26"
                      ],
                      [
                        1,
                        "#f0f921"
                      ]
                    ]
                  },
                  "paper_bgcolor": "white",
                  "plot_bgcolor": "#E5ECF6",
                  "title": {
                    "x": 0.05
                  },
                  "scene": {
                    "zaxis": {
                      "backgroundcolor": "#E5ECF6",
                      "ticks": "",
                      "gridwidth": 2,
                      "showbackground": true,
                      "zerolinecolor": "white",
                      "gridcolor": "white",
                      "linecolor": "white"
                    },
                    "xaxis": {
                      "backgroundcolor": "#E5ECF6",
                      "ticks": "",
                      "gridwidth": 2,
                      "showbackground": true,
                      "zerolinecolor": "white",
                      "gridcolor": "white",
                      "linecolor": "white"
                    },
                    "yaxis": {
                      "backgroundcolor": "#E5ECF6",
                      "ticks": "",
                      "gridwidth": 2,
                      "showbackground": true,
                      "zerolinecolor": "white",
                      "gridcolor": "white",
                      "linecolor": "white"
                    }
                  },
                  "yaxis": {
                    "automargin": true,
                    "title": {
                      "standoff": 15
                    },
                    "zerolinewidth": 2,
                    "ticks": "",
                    "zerolinecolor": "white",
                    "gridcolor": "white",
                    "linecolor": "white"
                  },
                  "annotationdefaults": {
                    "arrowwidth": 1,
                    "arrowhead": 0,
                    "arrowcolor": "#2a3f5f"
                  },
                  "hoverlabel": {
                    "align": "left"
                  },
                  "ternary": {
                    "bgcolor": "#E5ECF6",
                    "baxis": {
                      "ticks": "",
                      "gridcolor": "white",
                      "linecolor": "white"
                    },
                    "caxis": {
                      "ticks": "",
                      "gridcolor": "white",
                      "linecolor": "white"
                    },
                    "aaxis": {
                      "ticks": "",
                      "gridcolor": "white",
                      "linecolor": "white"
                    }
                  },
                  "mapbox": {
                    "style": "light"
                  },
                  "hovermode": "closest",
                  "font": {
                    "color": "#2a3f5f"
                  },
                  "geo": {
                    "showland": true,
                    "landcolor": "#E5ECF6",
                    "showlakes": true,
                    "bgcolor": "white",
                    "subunitcolor": "white",
                    "lakecolor": "white"
                  },
                  "coloraxis": {
                    "colorbar": {
                      "outlinewidth": 0,
                      "ticks": ""
                    }
                  }
                },
                "data": {
                  "mesh3d": [
                    {
                      "colorbar": {
                        "outlinewidth": 0,
                        "ticks": ""
                      },
                      "type": "mesh3d"
                    }
                  ],
                  "scattercarpet": [
                    {
                      "marker": {
                        "colorbar": {
                          "outlinewidth": 0,
                          "ticks": ""
                        }
                      },
                      "type": "scattercarpet"
                    }
                  ],
                  "pie": [
                    {
                      "automargin": true,
                      "type": "pie"
                    }
                  ],
                  "surface": [
                    {
                      "colorbar": {
                        "outlinewidth": 0,
                        "ticks": ""
                      },
                      "type": "surface",
                      "colorscale": [
                        [
                          0,
                          "#0d0887"
                        ],
                        [
                          0.1111111111111111,
                          "#46039f"
                        ],
                        [
                          0.2222222222222222,
                          "#7201a8"
                        ],
                        [
                          0.3333333333333333,
                          "#9c179e"
                        ],
                        [
                          0.4444444444444444,
                          "#bd3786"
                        ],
                        [
                          0.5555555555555556,
                          "#d8576b"
                        ],
                        [
                          0.6666666666666666,
                          "#ed7953"
                        ],
                        [
                          0.7777777777777778,
                          "#fb9f3a"
                        ],
                        [
                          0.8888888888888888,
                          "#fdca26"
                        ],
                        [
                          1,
                          "#f0f921"
                        ]
                      ]
                    }
                  ],
                  "table": [
                    {
                      "header": {
                        "line": {
                          "color": "white"
                        },
                        "fill": {
                          "color": "#C8D4E3"
                        }
                      },
                      "cells": {
                        "line": {
                          "color": "white"
                        },
                        "fill": {
                          "color": "#EBF0F8"
                        }
                      },
                      "type": "table"
                    }
                  ],
                  "scatterpolargl": [
                    {
                      "marker": {
                        "colorbar": {
                          "outlinewidth": 0,
                          "ticks": ""
                        }
                      },
                      "type": "scatterpolargl"
                    }
                  ],
                  "contour": [
                    {
                      "colorbar": {
                        "outlinewidth": 0,
                        "ticks": ""
                      },
                      "type": "contour",
                      "colorscale": [
                        [
                          0,
                          "#0d0887"
                        ],
                        [
                          0.1111111111111111,
                          "#46039f"
                        ],
                        [
                          0.2222222222222222,
                          "#7201a8"
                        ],
                        [
                          0.3333333333333333,
                          "#9c179e"
                        ],
                        [
                          0.4444444444444444,
                          "#bd3786"
                        ],
                        [
                          0.5555555555555556,
                          "#d8576b"
                        ],
                        [
                          0.6666666666666666,
                          "#ed7953"
                        ],
                        [
                          0.7777777777777778,
                          "#fb9f3a"
                        ],
                        [
                          0.8888888888888888,
                          "#fdca26"
                        ],
                        [
                          1,
                          "#f0f921"
                        ]
                      ]
                    }
                  ],
                  "carpet": [
                    {
                      "type": "carpet",
                      "baxis": {
                        "minorgridcolor": "white",
                        "gridcolor": "white",
                        "linecolor": "white",
                        "endlinecolor": "#2a3f5f",
                        "startlinecolor": "#2a3f5f"
                      },
                      "aaxis": {
                        "minorgridcolor": "white",
                        "gridcolor": "white",
                        "linecolor": "white",
                        "endlinecolor": "#2a3f5f",
                        "startlinecolor": "#2a3f5f"
                      }
                    }
                  ],
                  "contourcarpet": [
                    {
                      "colorbar": {
                        "outlinewidth": 0,
                        "ticks": ""
                      },
                      "type": "contourcarpet"
                    }
                  ],
                  "heatmap": [
                    {
                      "colorbar": {
                        "outlinewidth": 0,
                        "ticks": ""
                      },
                      "type": "heatmap",
                      "colorscale": [
                        [
                          0,
                          "#0d0887"
                        ],
                        [
                          0.1111111111111111,
                          "#46039f"
                        ],
                        [
                          0.2222222222222222,
                          "#7201a8"
                        ],
                        [
                          0.3333333333333333,
                          "#9c179e"
                        ],
                        [
                          0.4444444444444444,
                          "#bd3786"
                        ],
                        [
                          0.5555555555555556,
                          "#d8576b"
                        ],
                        [
                          0.6666666666666666,
                          "#ed7953"
                        ],
                        [
                          0.7777777777777778,
                          "#fb9f3a"
                        ],
                        [
                          0.8888888888888888,
                          "#fdca26"
                        ],
                        [
                          1,
                          "#f0f921"
                        ]
                      ]
                    }
                  ],
                  "scattermapbox": [
                    {
                      "marker": {
                        "colorbar": {
                          "outlinewidth": 0,
                          "ticks": ""
                        }
                      },
                      "type": "scattermapbox"
                    }
                  ],
                  "scatter3d": [
                    {
                      "marker": {
                        "colorbar": {
                          "outlinewidth": 0,
                          "ticks": ""
                        }
                      },
                      "line": {
                        "colorbar": {
                          "outlinewidth": 0,
                          "ticks": ""
                        }
                      },
                      "type": "scatter3d"
                    }
                  ],
                  "scattergl": [
                    {
                      "marker": {
                        "colorbar": {
                          "outlinewidth": 0,
                          "ticks": ""
                        }
                      },
                      "type": "scattergl"
                    }
                  ],
                  "scatterternary": [
                    {
                      "marker": {
                        "colorbar": {
                          "outlinewidth": 0,
                          "ticks": ""
                        }
                      },
                      "type": "scatterternary"
                    }
                  ],
                  "histogram2d": [
                    {
                      "colorbar": {
                        "outlinewidth": 0,
                        "ticks": ""
                      },
                      "type": "histogram2d",
                      "colorscale": [
                        [
                          0,
                          "#0d0887"
                        ],
                        [
                          0.1111111111111111,
                          "#46039f"
                        ],
                        [
                          0.2222222222222222,
                          "#7201a8"
                        ],
                        [
                          0.3333333333333333,
                          "#9c179e"
                        ],
                        [
                          0.4444444444444444,
                          "#bd3786"
                        ],
                        [
                          0.5555555555555556,
                          "#d8576b"
                        ],
                        [
                          0.6666666666666666,
                          "#ed7953"
                        ],
                        [
                          0.7777777777777778,
                          "#fb9f3a"
                        ],
                        [
                          0.8888888888888888,
                          "#fdca26"
                        ],
                        [
                          1,
                          "#f0f921"
                        ]
                      ]
                    }
                  ],
                  "heatmapgl": [
                    {
                      "colorbar": {
                        "outlinewidth": 0,
                        "ticks": ""
                      },
                      "type": "heatmapgl",
                      "colorscale": [
                        [
                          0,
                          "#0d0887"
                        ],
                        [
                          0.1111111111111111,
                          "#46039f"
                        ],
                        [
                          0.2222222222222222,
                          "#7201a8"
                        ],
                        [
                          0.3333333333333333,
                          "#9c179e"
                        ],
                        [
                          0.4444444444444444,
                          "#bd3786"
                        ],
                        [
                          0.5555555555555556,
                          "#d8576b"
                        ],
                        [
                          0.6666666666666666,
                          "#ed7953"
                        ],
                        [
                          0.7777777777777778,
                          "#fb9f3a"
                        ],
                        [
                          0.8888888888888888,
                          "#fdca26"
                        ],
                        [
                          1,
                          "#f0f921"
                        ]
                      ]
                    }
                  ],
                  "scatterpolar": [
                    {
                      "marker": {
                        "colorbar": {
                          "outlinewidth": 0,
                          "ticks": ""
                        }
                      },
                      "type": "scatterpolar"
                    }
                  ],
                  "histogram": [
                    {
                      "marker": {
                        "colorbar": {
                          "outlinewidth": 0,
                          "ticks": ""
                        }
                      },
                      "type": "histogram"
                    }
                  ],
                  "scattergeo": [
                    {
                      "marker": {
                        "colorbar": {
                          "outlinewidth": 0,
                          "ticks": ""
                        }
                      },
                      "type": "scattergeo"
                    }
                  ],
                  "bar": [
                    {
                      "marker": {
                        "line": {
                          "color": "#E5ECF6",
                          "width": 0.5
                        }
                      },
                      "type": "bar",
                      "error_x": {
                        "color": "#2a3f5f"
                      },
                      "error_y": {
                        "color": "#2a3f5f"
                      }
                    }
                  ],
                  "choropleth": [
                    {
                      "colorbar": {
                        "outlinewidth": 0,
                        "ticks": ""
                      },
                      "type": "choropleth"
                    }
                  ],
                  "parcoords": [
                    {
                      "line": {
                        "colorbar": {
                          "outlinewidth": 0,
                          "ticks": ""
                        }
                      },
                      "type": "parcoords"
                    }
                  ],
                  "barpolar": [
                    {
                      "marker": {
                        "line": {
                          "color": "#E5ECF6",
                          "width": 0.5
                        }
                      },
                      "type": "barpolar"
                    }
                  ],
                  "histogram2dcontour": [
                    {
                      "colorbar": {
                        "outlinewidth": 0,
                        "ticks": ""
                      },
                      "type": "histogram2dcontour",
                      "colorscale": [
                        [
                          0,
                          "#0d0887"
                        ],
                        [
                          0.1111111111111111,
                          "#46039f"
                        ],
                        [
                          0.2222222222222222,
                          "#7201a8"
                        ],
                        [
                          0.3333333333333333,
                          "#9c179e"
                        ],
                        [
                          0.4444444444444444,
                          "#bd3786"
                        ],
                        [
                          0.5555555555555556,
                          "#d8576b"
                        ],
                        [
                          0.6666666666666666,
                          "#ed7953"
                        ],
                        [
                          0.7777777777777778,
                          "#fb9f3a"
                        ],
                        [
                          0.8888888888888888,
                          "#fdca26"
                        ],
                        [
                          1,
                          "#f0f921"
                        ]
                      ]
                    }
                  ],
                  "scatter": [
                    {
                      "marker": {
                        "colorbar": {
                          "outlinewidth": 0,
                          "ticks": ""
                        }
                      },
                      "type": "scatter"
                    }
                  ]
                }
              }
            },
            "_js2py_layoutDelta": {},
            "_py2js_update": {},
            "_data": [
              {
                "z": [
                  [
                    0.792156862745098,
                    0.792156862745098,
                    0.792156862745098,
                    0.5411764705882353,
                    0.5411764705882353
                  ],
                  [
                    0.792156862745098,
                    0.792156862745098,
                    0.792156862745098,
                    0.5411764705882353,
                    0.5411764705882353
                  ],
                  [
                    0.792156862745098,
                    0.792156862745098,
                    0.792156862745098,
                    0.5411764705882353,
                    0.5411764705882353
                  ],
                  [
                    0.792156862745098,
                    0.792156862745098,
                    0.792156862745098,
                    0.5411764705882353,
                    0.5411764705882353
                  ],
                  [
                    0.792156862745098,
                    0.792156862745098,
                    0.792156862745098,
                    0.5411764705882353,
                    0.5411764705882353
                  ]
                ],
                "type": "surface",
                "scene": "scene",
                "showscale": false,
                "uid": "87783325-b49d-47cb-a729-24d69c3bc45b"
              },
              {
                "z": [
                  [
                    -0.047046929597854614,
                    0.03010675311088562,
                    0.2949371337890625,
                    -0.15553134679794312,
                    0.12394490838050842
                  ],
                  [
                    0.31360673904418945,
                    -0.05222451686859131,
                    0.2637600898742676,
                    -0.08797544240951538,
                    0.288074254989624
                  ],
                  [
                    -0.05925455689430237,
                    0.14913931488990784,
                    -0.18339651823043823,
                    0.24596309661865234,
                    -0.05135691165924072
                  ],
                  [
                    -0.0999920517206192,
                    -0.32948097586631775,
                    -0.1934041827917099,
                    0.053129374980926514,
                    -0.02395409345626831
                  ],
                  [
                    -0.24036851525306702,
                    -0.0653328001499176,
                    0.1718541979789734,
                    0.04208296537399292,
                    0.31822603940963745
                  ]
                ],
                "type": "surface",
                "scene": "scene2",
                "uid": "f1e60103-8dd7-4e88-8ecd-b61adcbd25bb"
              }
            ],
            "_config": {
              "plotlyServerURL": "https://plot.ly"
            },
            "_py2js_restyle": null,
            "_view_module_version": "^1.4.0",
            "_last_layout_edit_id": 61,
            "_js2py_traceDeltas": {}
          }
        }
      }
    }
  },
  "cells": [
    {
      "cell_type": "markdown",
      "metadata": {
        "id": "view-in-github",
        "colab_type": "text"
      },
      "source": [
        "<a href=\"https://colab.research.google.com/github/ruperty/colab/blob/master/simple_conv2d.ipynb\" target=\"_parent\"><img src=\"https://colab.research.google.com/assets/colab-badge.svg\" alt=\"Open In Colab\"/></a>"
      ]
    },
    {
      "cell_type": "code",
      "metadata": {
        "id": "tgdOD6LY4hSs",
        "colab_type": "code",
        "colab": {
          "base_uri": "https://localhost:8080/",
          "height": 136
        },
        "outputId": "9931e5d1-774e-4ee3-cfa8-c2e7eafcaaf1"
      },
      "source": [
        "!git clone https://github.com/ruperty/pct.git"
      ],
      "execution_count": 1,
      "outputs": [
        {
          "output_type": "stream",
          "text": [
            "Cloning into 'pct'...\n",
            "remote: Enumerating objects: 48, done.\u001b[K\n",
            "remote: Counting objects: 100% (48/48), done.\u001b[K\n",
            "remote: Compressing objects: 100% (34/34), done.\u001b[K\n",
            "remote: Total 529 (delta 26), reused 31 (delta 14), pack-reused 481\u001b[K\n",
            "Receiving objects: 100% (529/529), 178.57 KiB | 500.00 KiB/s, done.\n",
            "Resolving deltas: 100% (314/314), done.\n"
          ],
          "name": "stdout"
        }
      ]
    },
    {
      "cell_type": "code",
      "metadata": {
        "id": "kcWCLzAJ3cZu",
        "colab_type": "code",
        "colab": {}
      },
      "source": [
        "import pct.dl.utils as ut\n",
        "import plotly.graph_objects as go\n",
        "import numpy as np\n",
        "import time\n",
        "from tensorflow import keras\n",
        "from pathlib import Path\n",
        "from os import path\n",
        "#from keras.preprocessing.image import load_img\n",
        "import IPython.display as display"
      ],
      "execution_count": 2,
      "outputs": []
    },
    {
      "cell_type": "code",
      "metadata": {
        "id": "sO9YWi0S3cZy",
        "colab_type": "code",
        "colab": {}
      },
      "source": [
        "CONV_SIZE=5\n",
        "IMG_ROWS, IMG_COLS = CONV_SIZE, CONV_SIZE # input image dimensions\n",
        "INPUT_SHAPE = (IMG_ROWS, IMG_COLS, 1)\n",
        "model_name=\"SingleC2D\"\n",
        "model_plot_filename=\"C2D.png\"\n",
        "show_shapes=True"
      ],
      "execution_count": 3,
      "outputs": []
    },
    {
      "cell_type": "code",
      "metadata": {
        "id": "DyWwX8m23cZ0",
        "colab_type": "code",
        "colab": {}
      },
      "source": [
        "def transform_weights(wts):\n",
        "    main_list=[]\n",
        "    for wtss in wts:\n",
        "        #print(wtss)\n",
        "        sub_list=[]\n",
        "        for wtsss in wtss:\n",
        "            #print(\"wtss\", wtsss[0][0])\n",
        "            sub_list.append(wtsss[0][0])\n",
        "            \n",
        "        main_list.append(sub_list)\n",
        "    return np.asarray(main_list)"
      ],
      "execution_count": 4,
      "outputs": []
    },
    {
      "cell_type": "code",
      "metadata": {
        "id": "29CW7RIj3cZ2",
        "colab_type": "code",
        "colab": {}
      },
      "source": [
        "def create_model():\n",
        "    sub_image = keras.layers.Input(shape=INPUT_SHAPE, name=\"image\")\n",
        "    c2d=keras.layers.Conv2D(1, (CONV_SIZE, CONV_SIZE), strides=(2, 2), use_bias=False, name=\"C2D\")(sub_image)\n",
        "    model = keras.models.Model(inputs=sub_image, outputs=c2d, name=model_name)   \n",
        "    return model"
      ],
      "execution_count": 5,
      "outputs": []
    },
    {
      "cell_type": "code",
      "metadata": {
        "id": "KLKDU8nW3cZ4",
        "colab_type": "code",
        "colab": {
          "base_uri": "https://localhost:8080/",
          "height": 221
        },
        "outputId": "e5e3239e-92f4-42ff-e9f2-b15f9092a62f"
      },
      "source": [
        "model=create_model()\n",
        "model.summary()\n",
        "#keras.utils.plot_model(model, model_plot_filename, show_shapes=show_shapes) "
      ],
      "execution_count": 6,
      "outputs": [
        {
          "output_type": "stream",
          "text": [
            "Model: \"SingleC2D\"\n",
            "_________________________________________________________________\n",
            "Layer (type)                 Output Shape              Param #   \n",
            "=================================================================\n",
            "image (InputLayer)           [(None, 5, 5, 1)]         0         \n",
            "_________________________________________________________________\n",
            "C2D (Conv2D)                 (None, 1, 1, 1)           25        \n",
            "=================================================================\n",
            "Total params: 25\n",
            "Trainable params: 25\n",
            "Non-trainable params: 0\n",
            "_________________________________________________________________\n"
          ],
          "name": "stdout"
        }
      ]
    },
    {
      "cell_type": "code",
      "metadata": {
        "id": "Wm4fVTRO3cZ7",
        "colab_type": "code",
        "colab": {
          "base_uri": "https://localhost:8080/",
          "height": 102
        },
        "outputId": "7dd9a99e-dcab-4762-c4db-b257515e67e9"
      },
      "source": [
        "wts = model.get_weights()\n",
        "#print(wts)\n",
        "wtsz = transform_weights(wts[0])\n",
        "print(wtsz)"
      ],
      "execution_count": 7,
      "outputs": [
        {
          "output_type": "stream",
          "text": [
            "[[-0.04704693  0.03010675  0.29493713 -0.15553135  0.12394491]\n",
            " [ 0.31360674 -0.05222452  0.2637601  -0.08797544  0.28807425]\n",
            " [-0.05925456  0.14913931 -0.18339652  0.2459631  -0.05135691]\n",
            " [-0.09999205 -0.32948098 -0.19340418  0.05312937 -0.02395409]\n",
            " [-0.24036852 -0.0653328   0.1718542   0.04208297  0.31822604]]\n"
          ],
          "name": "stdout"
        }
      ]
    },
    {
      "cell_type": "code",
      "metadata": {
        "id": "B3u_5R2p3cZ9",
        "colab_type": "code",
        "colab": {
          "base_uri": "https://localhost:8080/",
          "height": 434
        },
        "outputId": "94aec048-877e-402d-c371-9fb96237ef91"
      },
      "source": [
        "# input data\n",
        "file_to_open = \"pct/data/grey-boxes.png\" \n",
        "gimg = ut.GreyImage(file_to_open)\n",
        "gimg.open()\n",
        "img = gimg.getImage()\n",
        "# show the image\n",
        "display.display(img)\n",
        "\n"
      ],
      "execution_count": 8,
      "outputs": [
        {
          "output_type": "stream",
          "text": [
            "None (400, 400) L\n"
          ],
          "name": "stdout"
        },
        {
          "output_type": "display_data",
          "data": {
            "image/png": "[encoded data removed]",
            "text/plain": [
              "<PIL.Image.Image image mode=L size=400x400 at 0x7FF093428BA8>"
            ]
          },
          "metadata": {
            "tags": []
          }
        }
      ]
    },
    {
      "cell_type": "code",
      "metadata": {
        "id": "ifiA3xXO3caA",
        "colab_type": "code",
        "colab": {}
      },
      "source": [
        "left = 57\n",
        "top = 97\n",
        "right = left+CONV_SIZE\n",
        "bottom = top+CONV_SIZE\n",
        "img1 = img.crop((left, top, right, bottom)) \n",
        "img1=img1.convert('L')"
      ],
      "execution_count": 9,
      "outputs": []
    },
    {
      "cell_type": "code",
      "metadata": {
        "id": "eGw4N8ux3caE",
        "colab_type": "code",
        "colab": {
          "base_uri": "https://localhost:8080/",
          "height": 84
        },
        "outputId": "62ee195b-eb6c-4bb8-cb94-f205dab39843"
      },
      "source": [
        "display.display(img1)\n",
        "display.display(img1.resize((50,50)))"
      ],
      "execution_count": 10,
      "outputs": [
        {
          "output_type": "display_data",
          "data": {
            "image/png": "[encoded data removed]",
            "text/plain": [
              "<PIL.Image.Image image mode=L size=5x5 at 0x7FF08D6922B0>"
            ]
          },
          "metadata": {
            "tags": []
          }
        },
        {
          "output_type": "display_data",
          "data": {
            "image/png": "[encoded data removed]",
            "text/plain": [
              "<PIL.Image.Image image mode=L size=50x50 at 0x7FF093428748>"
            ]
          },
          "metadata": {
            "tags": []
          }
        }
      ]
    },
    {
      "cell_type": "code",
      "metadata": {
        "id": "KS75JbYa3caG",
        "colab_type": "code",
        "colab": {
          "base_uri": "https://localhost:8080/",
          "height": 102
        },
        "outputId": "6e3358df-e846-4cfc-ca28-f6d7c6961934"
      },
      "source": [
        "imageArray =np.asarray(img1)/255\n",
        "print(imageArray)"
      ],
      "execution_count": 11,
      "outputs": [
        {
          "output_type": "stream",
          "text": [
            "[[0.79215686 0.79215686 0.79215686 0.54117647 0.54117647]\n",
            " [0.79215686 0.79215686 0.79215686 0.54117647 0.54117647]\n",
            " [0.79215686 0.79215686 0.79215686 0.54117647 0.54117647]\n",
            " [0.79215686 0.79215686 0.79215686 0.54117647 0.54117647]\n",
            " [0.79215686 0.79215686 0.79215686 0.54117647 0.54117647]]\n"
          ],
          "name": "stdout"
        }
      ]
    },
    {
      "cell_type": "code",
      "metadata": {
        "id": "5M_QG33y3caI",
        "colab_type": "code",
        "colab": {}
      },
      "source": [
        "def train(steps, epochs):\n",
        "    print(\"ctr loss output\")\n",
        "    for step in range(steps+1):\n",
        "        history = model.fit(inputs, outputs, epochs=epochs, verbose=False)\n",
        "        loss = history.history['loss'][-1]\n",
        "        out = model(inputs).numpy()[0][0][0][0]\n",
        "        print('[{:3d} {:5.2f} {:4.2f}]'.format(step*epochs, loss, out), end=\" \")\n",
        "        wts = model.get_weights()\n",
        "        wtsz = transform_weights(wts[0])\n",
        "        #print(wtsz)\n",
        "        spf1.data[1].z=wtsz"
      ],
      "execution_count": 12,
      "outputs": []
    },
    {
      "cell_type": "code",
      "metadata": {
        "id": "xHG-hd2b3caJ",
        "colab_type": "code",
        "colab": {}
      },
      "source": [
        "import tensorflow as tf\n",
        "reference = 9\n",
        "batch_size = 500\n",
        "X = tf.constant(np.array([imageArray]), dtype=tf.float32 )\n",
        "Y = tf.constant(np.full((1,), reference), dtype=tf.float32 )\n",
        "dataset = tf.data.Dataset.from_tensor_slices(( X , Y )) \n",
        "dataset = dataset.shuffle( 1 ).repeat( 1 ).batch( batch_size )\n",
        "iterator = dataset.__iter__()\n",
        "inputs , outputs = iterator.get_next()"
      ],
      "execution_count": 13,
      "outputs": []
    },
    {
      "cell_type": "code",
      "metadata": {
        "id": "mejG3LYC3caL",
        "colab_type": "code",
        "colab": {
          "base_uri": "https://localhost:8080/",
          "height": 119
        },
        "outputId": "c3dd96b8-e4ce-47ee-c0a2-e4b3f1a54e2d"
      },
      "source": [
        "print(inputs, outputs)"
      ],
      "execution_count": 14,
      "outputs": [
        {
          "output_type": "stream",
          "text": [
            "tf.Tensor(\n",
            "[[[0.7921569 0.7921569 0.7921569 0.5411765 0.5411765]\n",
            "  [0.7921569 0.7921569 0.7921569 0.5411765 0.5411765]\n",
            "  [0.7921569 0.7921569 0.7921569 0.5411765 0.5411765]\n",
            "  [0.7921569 0.7921569 0.7921569 0.5411765 0.5411765]\n",
            "  [0.7921569 0.7921569 0.7921569 0.5411765 0.5411765]]], shape=(1, 5, 5), dtype=float32) tf.Tensor([9.], shape=(1,), dtype=float32)\n"
          ],
          "name": "stdout"
        }
      ]
    },
    {
      "cell_type": "code",
      "metadata": {
        "id": "feZYHfgY3caN",
        "colab_type": "code",
        "colab": {}
      },
      "source": [
        ""
      ],
      "execution_count": 14,
      "outputs": []
    },
    {
      "cell_type": "code",
      "metadata": {
        "id": "elGFKjp23caP",
        "colab_type": "code",
        "colab": {}
      },
      "source": [
        "learning_rate=0.003\n",
        "model.compile(keras.optimizers.SGD(learning_rate), loss='mse', run_eagerly=True)\n"
      ],
      "execution_count": 15,
      "outputs": []
    },
    {
      "cell_type": "code",
      "metadata": {
        "id": "EjVzGXa23caQ",
        "colab_type": "code",
        "colab": {
          "base_uri": "https://localhost:8080/",
          "height": 102
        },
        "outputId": "2610fb00-f274-4591-b5f3-c3026ade0854"
      },
      "source": [
        "wts = model.get_weights()\n",
        "#print(wts)\n",
        "initial_wtsz = transform_weights(wts[0])\n",
        "print(initial_wtsz)"
      ],
      "execution_count": 16,
      "outputs": [
        {
          "output_type": "stream",
          "text": [
            "[[-0.04704693  0.03010675  0.29493713 -0.15553135  0.12394491]\n",
            " [ 0.31360674 -0.05222452  0.2637601  -0.08797544  0.28807425]\n",
            " [-0.05925456  0.14913931 -0.18339652  0.2459631  -0.05135691]\n",
            " [-0.09999205 -0.32948098 -0.19340418  0.05312937 -0.02395409]\n",
            " [-0.24036852 -0.0653328   0.1718542   0.04208297  0.31822604]]\n"
          ],
          "name": "stdout"
        }
      ]
    },
    {
      "cell_type": "code",
      "metadata": {
        "scrolled": false,
        "id": "cFHcALfi3caS",
        "colab_type": "code",
        "colab": {
          "base_uri": "https://localhost:8080/",
          "height": 17,
          "referenced_widgets": [
            "82f7e1e9b4ef4992aee04d48784d5d35"
          ]
        },
        "outputId": "a43f5a19-e3d6-4fc9-f4f7-3e069282f3ef"
      },
      "source": [
        "from plotly.subplots import make_subplots\n",
        "spfig = make_subplots(\n",
        "    rows=1, cols=2,\n",
        "    specs=[[{'type': 'surface'}, {'type': 'surface'}]])\n",
        "\n",
        "spfig.add_trace(\n",
        "    go.Surface(z=imageArray,  showscale=False),\n",
        "    row=1, col=1)\n",
        "\n",
        "\n",
        "spfig.add_trace(\n",
        "    go.Surface(z=wtsz),\n",
        "    row=1, col=2)\n",
        "\n",
        "spfig.update_layout(\n",
        "    title_text='Sub-image and Weights',\n",
        "    height=600,\n",
        "    width=900\n",
        ")\n",
        "\n",
        "spf1 = go.FigureWidget(spfig)\n",
        "spf1"
      ],
      "execution_count": 17,
      "outputs": [
        {
          "output_type": "display_data",
          "data": {
            "application/vnd.jupyter.widget-view+json": {
              "model_id": "82f7e1e9b4ef4992aee04d48784d5d35",
              "version_minor": 0,
              "version_major": 2
            },
            "text/plain": [
              "FigureWidget({\n",
              "    'data': [{'scene': 'scene',\n",
              "              'showscale': False,\n",
              "              'type': 'surfac…"
            ]
          },
          "metadata": {
            "tags": []
          }
        }
      ]
    },
    {
      "cell_type": "code",
      "metadata": {
        "id": "J0Q-Gxpa3caU",
        "colab_type": "code",
        "colab": {
          "base_uri": "https://localhost:8080/",
          "height": 88
        },
        "outputId": "8362ec48-59a8-4ee3-a3cc-56918f4d5db3"
      },
      "source": [
        "print(\"Target output is\", reference)\n",
        "train(60, 2)"
      ],
      "execution_count": 18,
      "outputs": [
        {
          "output_type": "stream",
          "text": [
            "Target output is 9\n",
            "ctr loss output\n",
            "[  0 63.86 1.60] [  2 46.94 2.66] [  4 34.51 3.56] [  6 25.37 4.34] [  8 18.65 5.00] [ 10 13.71 5.57] [ 12 10.08 6.06] [ 14  7.41 6.48] [ 16  5.45 6.84] [ 18  4.00 7.15] [ 20  2.94 7.41] [ 22  2.16 7.64] [ 24  1.59 7.83] [ 26  1.17 8.00] [ 28  0.86 8.14] [ 30  0.63 8.26] [ 32  0.46 8.37] [ 34  0.34 8.46] [ 36  0.25 8.54] [ 38  0.18 8.60] [ 40  0.14 8.66] [ 42  0.10 8.71] [ 44  0.07 8.75] [ 46  0.05 8.79] [ 48  0.04 8.82] [ 50  0.03 8.84] [ 52  0.02 8.86] [ 54  0.02 8.88] [ 56  0.01 8.90] [ 58  0.01 8.91] [ 60  0.01 8.93] [ 62  0.00 8.94] [ 64  0.00 8.95] [ 66  0.00 8.95] [ 68  0.00 8.96] [ 70  0.00 8.97] [ 72  0.00 8.97] [ 74  0.00 8.98] [ 76  0.00 8.98] [ 78  0.00 8.98] [ 80  0.00 8.98] [ 82  0.00 8.99] [ 84  0.00 8.99] [ 86  0.00 8.99] [ 88  0.00 8.99] [ 90  0.00 8.99] [ 92  0.00 8.99] [ 94  0.00 8.99] [ 96  0.00 9.00] [ 98  0.00 9.00] [100  0.00 9.00] [102  0.00 9.00] [104  0.00 9.00] [106  0.00 9.00] [108  0.00 9.00] [110  0.00 9.00] [112  0.00 9.00] [114  0.00 9.00] [116  0.00 9.00] [118  0.00 9.00] [120  0.00 9.00] "
          ],
          "name": "stdout"
        }
      ]
    },
    {
      "cell_type": "code",
      "metadata": {
        "id": "evEHGcD-3caW",
        "colab_type": "code",
        "colab": {
          "base_uri": "https://localhost:8080/",
          "height": 340
        },
        "outputId": "2acc1e46-4e7c-4408-b9f1-792b570f4815"
      },
      "source": [
        "print(imageArray)\n",
        "wts = model.get_weights()\n",
        "wtsz = transform_weights(wts[0])\n",
        "print(\"Final weights\")\n",
        "print(wtsz)\n",
        "print(\"sum\", np.sum(wtsz))\n",
        "print(\"Initial weights\")\n",
        "print(initial_wtsz)\n",
        "print(\"sum\", np.sum(initial_wtsz))"
      ],
      "execution_count": 19,
      "outputs": [
        {
          "output_type": "stream",
          "text": [
            "[[0.79215686 0.79215686 0.79215686 0.54117647 0.54117647]\n",
            " [0.79215686 0.79215686 0.79215686 0.54117647 0.54117647]\n",
            " [0.79215686 0.79215686 0.79215686 0.54117647 0.54117647]\n",
            " [0.79215686 0.79215686 0.79215686 0.54117647 0.54117647]\n",
            " [0.79215686 0.79215686 0.79215686 0.54117647 0.54117647]]\n",
            "Final weights\n",
            "[[0.50684094 0.58399457 0.84882504 0.22286713 0.5023435 ]\n",
            " [0.86749464 0.5016633  0.817648   0.29042286 0.6664726 ]\n",
            " [0.49463323 0.7030272  0.3704913  0.62436146 0.3270414 ]\n",
            " [0.45389572 0.22440654 0.3604836  0.43152773 0.3544442 ]\n",
            " [0.3135192  0.48855498 0.72574204 0.42048132 0.69662446]]\n",
            "sum 12.797808\n",
            "Initial weights\n",
            "[[-0.04704693  0.03010675  0.29493713 -0.15553135  0.12394491]\n",
            " [ 0.31360674 -0.05222452  0.2637601  -0.08797544  0.28807425]\n",
            " [-0.05925456  0.14913931 -0.18339652  0.2459631  -0.05135691]\n",
            " [-0.09999205 -0.32948098 -0.19340418  0.05312937 -0.02395409]\n",
            " [-0.24036852 -0.0653328   0.1718542   0.04208297  0.31822604]]\n",
            "sum 0.7055061\n"
          ],
          "name": "stdout"
        }
      ]
    },
    {
      "cell_type": "code",
      "metadata": {
        "id": "O6KVqkdY3caY",
        "colab_type": "code",
        "colab": {}
      },
      "source": [
        ""
      ],
      "execution_count": 19,
      "outputs": []
    }
  ]
}