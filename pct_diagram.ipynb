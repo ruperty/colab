{
  "nbformat": 4,
  "nbformat_minor": 0,
  "metadata": {
    "colab": {
      "provenance": [],
      "authorship_tag": "ABX9TyM2sEa7BRTps1gAaAFMiGYX",
      "include_colab_link": true
    },
    "kernelspec": {
      "name": "python3",
      "display_name": "Python 3"
    },
    "language_info": {
      "name": "python"
    }
  },
  "cells": [
    {
      "cell_type": "markdown",
      "metadata": {
        "id": "view-in-github",
        "colab_type": "text"
      },
      "source": [
        "<a href=\"https://colab.research.google.com/github/ruperty/colab/blob/master/pct_diagram.ipynb\" target=\"_parent\"><img src=\"https://colab.research.google.com/assets/colab-badge.svg\" alt=\"Open In Colab\"/></a>"
      ]
    },
    {
      "cell_type": "code",
      "execution_count": 1,
      "metadata": {
        "colab": {
          "base_uri": "https://localhost:8080/",
          "height": 292
        },
        "id": "-u97UABp9r_f",
        "outputId": "dc3b0539-d7cb-4974-8713-5d8050134746"
      },
      "outputs": [
        {
          "output_type": "display_data",
          "data": {
            "text/plain": [
              "<Figure size 640x480 with 1 Axes>"
            ],
            "image/png": "[encoded data removed]"
          },
          "metadata": {}
        }
      ],
      "source": [
        "import matplotlib.pyplot as plt\n",
        "import matplotlib.patches as patches\n",
        "import numpy as np\n",
        "\n",
        "class IsoscelesTriangleDiagram:\n",
        "    def __init__(self, base_length=1, position=(0, 0), circle_colors=('lightblue', 'red', 'green'),\n",
        "                 line_style='--', circle_relative_size=0.1):\n",
        "        self.base_length = base_length\n",
        "        self.position = position\n",
        "        self.height = np.sqrt((self.base_length ** 2) - (self.base_length / 2) ** 2)\n",
        "        self.circle_radius = self.base_length * circle_relative_size\n",
        "        self.dash_pattern = (10, 5) if line_style == '--' else None\n",
        "        self.circle_colors = circle_colors\n",
        "        self.line_style = line_style\n",
        "\n",
        "    def create_patches(self):\n",
        "        patches_list = []\n",
        "\n",
        "        # Calculate vertices based on base length and position\n",
        "        x0, y0 = self.position\n",
        "        vertices = [\n",
        "            (x0, y0),\n",
        "            (x0 + self.base_length, y0),\n",
        "            (x0 + self.base_length / 2, y0 + self.height)\n",
        "        ]\n",
        "\n",
        "        # Define the circle properties\n",
        "        circle_properties = [\n",
        "            (vertices[0], self.circle_colors[0]),  # Bottom-left\n",
        "            (vertices[2], self.circle_colors[1]),  # Top\n",
        "            (vertices[1], self.circle_colors[2])   # Bottom-right\n",
        "        ]\n",
        "\n",
        "        # Add circles to the vertices\n",
        "        for (vertex, color) in circle_properties:\n",
        "            circle = patches.Circle(vertex, radius=self.circle_radius, color=color, zorder=1)\n",
        "            patches_list.append(circle)\n",
        "\n",
        "        # Create the isosceles triangle\n",
        "        triangle = patches.Polygon(\n",
        "            vertices, closed=True, fill=True, edgecolor='darkblue', linestyle=self.line_style, linewidth=2, facecolor='white', zorder=2\n",
        "        )\n",
        "        if self.dash_pattern:\n",
        "            triangle.set_linestyle((0, self.dash_pattern))  # Set custom dash pattern if needed\n",
        "        patches_list.append(triangle)\n",
        "\n",
        "        return patches_list\n",
        "\n",
        "# Function to display multiple objects\n",
        "def display_diagrams(diagrams, save_path='isosceles_triangle_diagram.png'):\n",
        "    fig, ax = plt.subplots()\n",
        "\n",
        "    for diagram in diagrams:\n",
        "        patches_list = diagram.create_patches()\n",
        "        for patch in patches_list:\n",
        "            ax.add_patch(patch)\n",
        "\n",
        "    # Set the aspect ratio and limits\n",
        "    ax.set_aspect('equal')\n",
        "    buffer = max(d.base_length for d in diagrams) * 0.1\n",
        "    min_x = min(d.position[0] for d in diagrams) - buffer\n",
        "    max_x = max(d.position[0] + d.base_length for d in diagrams) + buffer\n",
        "    min_y = min(d.position[1] for d in diagrams) - buffer\n",
        "    max_y = max(d.position[1] + d.height for d in diagrams) + buffer\n",
        "    ax.set_xlim(min_x, max_x)\n",
        "    ax.set_ylim(min_y, max_y)\n",
        "\n",
        "    # Remove axis\n",
        "    ax.axis('off')\n",
        "\n",
        "    # Save the diagram\n",
        "    plt.savefig(save_path, bbox_inches='tight')\n",
        "    plt.show()\n",
        "\n",
        "# Example usage:\n",
        "triangle_diagram1 = IsoscelesTriangleDiagram(\n",
        "    base_length=2,\n",
        "    position=(0, 0),\n",
        "    circle_colors=('cyan', 'magenta', 'yellow'),\n",
        "    line_style='-',\n",
        "    circle_relative_size=0.05\n",
        ")\n",
        "triangle_diagram2 = IsoscelesTriangleDiagram(\n",
        "    base_length=1,\n",
        "    position=(3, 1),\n",
        "    circle_colors=('blue', 'orange', 'purple'),\n",
        "    line_style='--',\n",
        "    circle_relative_size=0.1\n",
        ")\n",
        "display_diagrams([triangle_diagram1, triangle_diagram2])\n"
      ]
    }
  ]
}