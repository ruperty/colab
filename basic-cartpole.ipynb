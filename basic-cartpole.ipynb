{
  "nbformat": 4,
  "nbformat_minor": 0,
  "metadata": {
    "colab": {
      "name": "basic-cartpole.ipynb",
      "provenance": [],
      "collapsed_sections": [],
      "authorship_tag": "ABX9TyPtXynnLf1chkEDPS12Mh30",
      "include_colab_link": true
    },
    "kernelspec": {
      "name": "python3",
      "display_name": "Python 3"
    }
  },
  "cells": [
    {
      "cell_type": "markdown",
      "metadata": {
        "id": "view-in-github",
        "colab_type": "text"
      },
      "source": [
        "<a href=\"https://colab.research.google.com/github/ruperty/colab/blob/master/basic-cartpole.ipynb\" target=\"_parent\"><img src=\"https://colab.research.google.com/assets/colab-badge.svg\" alt=\"Open In Colab\"/></a>"
      ]
    },
    {
      "cell_type": "code",
      "metadata": {
        "id": "z5wbo9VyPh_d",
        "colab_type": "code",
        "outputId": "039ec549-304f-4656-da1b-7af6f1dbccf6",
        "colab": {
          "base_uri": "https://localhost:8080/",
          "height": 493
        }
      },
      "source": [
        "#remove \" > /dev/null 2>&1\" to see what is going on under the hood\n",
        "!pip install gym pyvirtualdisplay > /dev/null 2>&1\n",
        "!apt-get install -y xvfb python-opengl ffmpeg > /dev/null 2>&1\n",
        "!apt-get install x11-utils  > /dev/null 2>&1"
      ],
      "execution_count": 0,
      "outputs": [
        {
          "output_type": "stream",
          "text": [
            "Reading package lists... Done\n",
            "Building dependency tree       \n",
            "Reading state information... Done\n",
            "The following additional packages will be installed:\n",
            "  libxxf86dga1\n",
            "Suggested packages:\n",
            "  mesa-utils\n",
            "The following NEW packages will be installed:\n",
            "  libxxf86dga1 x11-utils\n",
            "0 upgraded, 2 newly installed, 0 to remove and 31 not upgraded.\n",
            "Need to get 209 kB of archives.\n",
            "After this operation, 711 kB of additional disk space will be used.\n",
            "Get:1 http://archive.ubuntu.com/ubuntu bionic/main amd64 libxxf86dga1 amd64 2:1.1.4-1 [13.7 kB]\n",
            "Get:2 http://archive.ubuntu.com/ubuntu bionic/main amd64 x11-utils amd64 7.7+3build1 [196 kB]\n",
            "Fetched 209 kB in 1s (355 kB/s)\n",
            "Selecting previously unselected package libxxf86dga1:amd64.\n",
            "(Reading database ... 146795 files and directories currently installed.)\n",
            "Preparing to unpack .../libxxf86dga1_2%3a1.1.4-1_amd64.deb ...\n",
            "Unpacking libxxf86dga1:amd64 (2:1.1.4-1) ...\n",
            "Selecting previously unselected package x11-utils.\n",
            "Preparing to unpack .../x11-utils_7.7+3build1_amd64.deb ...\n",
            "Unpacking x11-utils (7.7+3build1) ...\n",
            "Setting up libxxf86dga1:amd64 (2:1.1.4-1) ...\n",
            "Setting up x11-utils (7.7+3build1) ...\n",
            "Processing triggers for man-db (2.8.3-2ubuntu0.1) ...\n",
            "Processing triggers for libc-bin (2.27-3ubuntu1) ...\n",
            "/sbin/ldconfig.real: /usr/local/lib/python3.6/dist-packages/ideep4py/lib/libmkldnn.so.0 is not a symbolic link\n",
            "\n"
          ],
          "name": "stdout"
        }
      ]
    },
    {
      "cell_type": "markdown",
      "metadata": {
        "id": "g_hgxxphPvr-",
        "colab_type": "text"
      },
      "source": [
        "Cartpole"
      ]
    },
    {
      "cell_type": "code",
      "metadata": {
        "id": "3I0V0hG-c3ys",
        "colab_type": "code",
        "colab": {}
      },
      "source": [
        ""
      ],
      "execution_count": 0,
      "outputs": []
    },
    {
      "cell_type": "code",
      "metadata": {
        "id": "4B_K-un7Pydl",
        "colab_type": "code",
        "colab": {}
      },
      "source": [
        "import gym\n",
        "from gym import logger as gymlogger\n",
        "from gym.wrappers import Monitor\n",
        "gymlogger.set_level(40) #error only\n",
        "import tensorflow as tf\n",
        "import numpy as np\n",
        "import random\n",
        "import matplotlib\n",
        "import matplotlib.pyplot as plt\n",
        "%matplotlib inline\n",
        "import math\n",
        "import glob\n",
        "import io\n",
        "import base64\n",
        "from IPython.display import HTML\n",
        "\n",
        "from IPython import display as ipythondisplay"
      ],
      "execution_count": 0,
      "outputs": []
    },
    {
      "cell_type": "code",
      "metadata": {
        "id": "kEpluzk3VIP0",
        "colab_type": "code",
        "outputId": "ccd579c5-6b7e-42b2-8b3f-ee39a14b4839",
        "colab": {
          "base_uri": "https://localhost:8080/",
          "height": 54
        }
      },
      "source": [
        "from pyvirtualdisplay import Display\n",
        "display = Display(visible=0, size=(1400, 900))\n",
        "display.start() "
      ],
      "execution_count": 0,
      "outputs": [
        {
          "output_type": "execute_result",
          "data": {
            "text/plain": [
              "<Display cmd_param=['Xvfb', '-br', '-nolisten', 'tcp', '-screen', '0', '1400x900x24', ':1017'] cmd=['Xvfb', '-br', '-nolisten', 'tcp', '-screen', '0', '1400x900x24', ':1017'] oserror=None return_code=None stdout=\"None\" stderr=\"None\" timeout_happened=False>"
            ]
          },
          "metadata": {
            "tags": []
          },
          "execution_count": 53
        }
      ]
    },
    {
      "cell_type": "code",
      "metadata": {
        "id": "Hrw-DOfwV_k7",
        "colab_type": "code",
        "colab": {}
      },
      "source": [
        "\"\"\"\n",
        "Utility functions to enable video recording of gym environment and displaying it\n",
        "To enable video, just do \"env = wrap_env(env)\"\"\n",
        "\"\"\"\n",
        "\n",
        "def show_video():\n",
        "  mp4list = glob.glob('video/*.mp4')\n",
        "  if len(mp4list) > 0:\n",
        "    mp4 = mp4list[0]\n",
        "    video = io.open(mp4, 'r+b').read()\n",
        "    encoded = base64.b64encode(video)\n",
        "    ipythondisplay.display(HTML(data='''<video alt=\"test\" autoplay \n",
        "                \n",
        "                 controls style=\"height: 400px;\">\n",
        "                <source src=\"data:video/mp4;base64,{0}\" type=\"video/mp4\" />\n",
        "             </video>'''.format(encoded.decode('ascii'))))\n",
        "  else: \n",
        "    print(\"Could not find video\")\n",
        "    \n",
        "\n",
        "def wrap_env(env):\n",
        "  env = Monitor(env, './video', force=True)\n",
        "  return env"
      ],
      "execution_count": 0,
      "outputs": []
    },
    {
      "cell_type": "code",
      "metadata": {
        "id": "jcDkwgM9PziA",
        "colab_type": "code",
        "colab": {}
      },
      "source": [
        ""
      ],
      "execution_count": 0,
      "outputs": []
    },
    {
      "cell_type": "code",
      "metadata": {
        "id": "8mrTWUnjQBl2",
        "colab_type": "code",
        "colab": {}
      },
      "source": [
        ""
      ],
      "execution_count": 0,
      "outputs": []
    },
    {
      "cell_type": "code",
      "metadata": {
        "id": "Cqbhj6rERDWm",
        "colab_type": "code",
        "colab": {}
      },
      "source": [
        ""
      ],
      "execution_count": 0,
      "outputs": []
    },
    {
      "cell_type": "code",
      "metadata": {
        "id": "yc9R70abQESu",
        "colab_type": "code",
        "outputId": "3f101453-c8cf-42fe-fb3c-014c9f7fb15a",
        "colab": {
          "base_uri": "https://localhost:8080/",
          "height": 438
        }
      },
      "source": [
        "env = wrap_env(gym.make(\"CartPole-v1\"))\n",
        "observation = env.reset()\n",
        "#print(observation)\n",
        "loops = 100\n",
        "for i in range(loops):\n",
        "   env.render()\n",
        "   action = env.action_space.sample()\n",
        "   observation =env.step(action) # take a random action\n",
        "   #print(action, observation)\n",
        "   done = observation[2]\n",
        "   if done: \n",
        "        if i < loops :\n",
        "          print(\"Failed after %d loops with a pole angle of %2.2f degrees\" %( i, np.rad2deg(observation[0][2])))\n",
        "        else:\n",
        "          print(\"Finished after \", i, \" loops\")\n",
        "        env.reset()\n",
        "        break\n",
        "\n",
        "env.close()\n",
        "show_video()"
      ],
      "execution_count": 0,
      "outputs": [
        {
          "output_type": "stream",
          "text": [
            "Failed after 25 loops with a pole angle of 12.57 degrees\n"
          ],
          "name": "stdout"
        },
        {
          "output_type": "display_data",
          "data": {
            "text/html": [
              "<video alt=\"test\" autoplay \n",
              "                \n",
              "                 controls style=\"height: 400px;\">\n",
              "                <source src=\"data:video/mp4;base64,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\" type=\"video/mp4\" />\n",
              "             </video>"
            ],
            "text/plain": [
              "<IPython.core.display.HTML object>"
            ]
          },
          "metadata": {
            "tags": []
          }
        }
      ]
    },
    {
      "cell_type": "code",
      "metadata": {
        "id": "hnGbMXHYQMYf",
        "colab_type": "code",
        "colab": {}
      },
      "source": [
        "def proportional(r, p, g):\n",
        "    return (r-p)*g\n",
        "\n",
        "def controller(ctr,     pole_angle_ref, cart_position, cart_velocity, pole_angle, pole_velocity):\n",
        "    \n",
        "    pole_velocity_ref=proportional(pole_angle_ref, pole_angle, pole_angle_gain)\n",
        "    cart_position_ref=proportional(pole_velocity_ref, pole_velocity, pole_velocity_gain)\n",
        "    cart_velocity_ref=proportional(cart_position_ref, cart_position, cart_position_gain)\n",
        "    power=proportional(cart_velocity_ref, cart_velocity, cart_velocity_gain)\n",
        "    \n",
        "    if power>=0:\n",
        "        return 0\n",
        "    return 1\n",
        "\n",
        "def get_obs(observation):\n",
        "    cart_position = observation[0]\n",
        "    cart_velocity = observation[1]\n",
        "    pole_angle = observation[2]\n",
        "    pole_velocity = observation[3]\n",
        "    return cart_position,    cart_velocity ,    pole_angle , pole_velocity \n"
      ],
      "execution_count": 0,
      "outputs": []
    },
    {
      "cell_type": "code",
      "metadata": {
        "id": "YAOuEOe0lyVp",
        "colab_type": "code",
        "colab": {}
      },
      "source": [
        "pole_angle_ref = 0\n",
        "\n",
        "loops = 500\n",
        "pole_angle_gain = 1.8\n",
        "pole_velocity_gain = 1.8\n",
        "cart_position_gain = .5\n",
        "cart_velocity_gain = .001"
      ],
      "execution_count": 0,
      "outputs": []
    },
    {
      "cell_type": "code",
      "metadata": {
        "id": "T6CslocZl9n0",
        "colab_type": "code",
        "outputId": "4354b0d5-524d-408a-be74-fc2af068a99c",
        "colab": {
          "base_uri": "https://localhost:8080/",
          "height": 438
        }
      },
      "source": [
        "genv = gym.make(\"CartPole-v1\")\n",
        "genv._max_episode_steps = 4000\n",
        "env = wrap_env(genv)\n",
        "reward = 0\n",
        "\n",
        "observation = env.reset()\n",
        "cart_position = observation[0]\n",
        "cart_velocity = observation[1]\n",
        "pole_angle = observation[2]\n",
        "pole_velocity = observation[3]\n",
        "for ctr in range(loops):\n",
        "    env.render()\n",
        "    #action= env.action_space.sample()\n",
        "    #print(action)\n",
        "    \n",
        "    action = controller(ctr, pole_angle_ref, cart_position, cart_velocity, pole_angle, pole_velocity)\n",
        "    \n",
        "    observation =env.step(action)    \n",
        "    #print(observation)\n",
        "    done = observation[2]\n",
        "    reward+=observation[1]\n",
        "    cart_position, cart_velocity, pole_angle, pole_velocity = get_obs(observation[0])\n",
        "    #print(cart_position)\n",
        "    if done: \n",
        "        print(ctr, observation)\n",
        "        break\n",
        " \n",
        "print(\"Reward \", reward, \" from \", ctr+1, \" loops\")    \n",
        "\n",
        "env.close()\n",
        "show_video()"
      ],
      "execution_count": 0,
      "outputs": [
        {
          "output_type": "stream",
          "text": [
            "Reward  500.0  from  500  loops\n"
          ],
          "name": "stdout"
        },
        {
          "output_type": "display_data",
          "data": {
            "text/html": [
              "<video alt=\"test\" autoplay \n",
              "                \n",
              "                 controls style=\"height: 400px;\">\n",
              "                <source src=\"data:video/mp4;base64,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\" type=\"video/mp4\" />\n",
              "             </video>"
            ],
            "text/plain": [
              "<IPython.core.display.HTML object>"
            ]
          },
          "metadata": {
            "tags": []
          }
        }
      ]
    },
    {
      "cell_type": "code",
      "metadata": {
        "id": "j_qjCIYhmAfr",
        "colab_type": "code",
        "colab": {}
      },
      "source": [
        ""
      ],
      "execution_count": 0,
      "outputs": []
    }
  ]
}