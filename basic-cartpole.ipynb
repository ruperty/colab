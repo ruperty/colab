{
  "nbformat": 4,
  "nbformat_minor": 0,
  "metadata": {
    "colab": {
      "name": "Untitled2.ipynb",
      "provenance": [],
      "collapsed_sections": [],
      "authorship_tag": "ABX9TyOShMmTLjB3500ieTLTgons",
      "include_colab_link": true
    },
    "kernelspec": {
      "name": "python3",
      "display_name": "Python 3"
    }
  },
  "cells": [
    {
      "cell_type": "markdown",
      "metadata": {
        "id": "view-in-github",
        "colab_type": "text"
      },
      "source": [
        "<a href=\"https://colab.research.google.com/github/ruperty/colab/blob/master/basic-cartpole.ipynb\" target=\"_parent\"><img src=\"https://colab.research.google.com/assets/colab-badge.svg\" alt=\"Open In Colab\"/></a>"
      ]
    },
    {
      "cell_type": "code",
      "metadata": {
        "id": "z5wbo9VyPh_d",
        "colab_type": "code",
        "colab": {
          "base_uri": "https://localhost:8080/",
          "height": 493
        },
        "outputId": "039ec549-304f-4656-da1b-7af6f1dbccf6"
      },
      "source": [
        "#remove \" > /dev/null 2>&1\" to see what is going on under the hood\n",
        "!pip install gym pyvirtualdisplay > /dev/null 2>&1\n",
        "!apt-get install -y xvfb python-opengl ffmpeg > /dev/null 2>&1\n",
        "!apt-get install x11-utils  > /dev/null 2>&1"
      ],
      "execution_count": 49,
      "outputs": [
        {
          "output_type": "stream",
          "text": [
            "Reading package lists... Done\n",
            "Building dependency tree       \n",
            "Reading state information... Done\n",
            "The following additional packages will be installed:\n",
            "  libxxf86dga1\n",
            "Suggested packages:\n",
            "  mesa-utils\n",
            "The following NEW packages will be installed:\n",
            "  libxxf86dga1 x11-utils\n",
            "0 upgraded, 2 newly installed, 0 to remove and 31 not upgraded.\n",
            "Need to get 209 kB of archives.\n",
            "After this operation, 711 kB of additional disk space will be used.\n",
            "Get:1 http://archive.ubuntu.com/ubuntu bionic/main amd64 libxxf86dga1 amd64 2:1.1.4-1 [13.7 kB]\n",
            "Get:2 http://archive.ubuntu.com/ubuntu bionic/main amd64 x11-utils amd64 7.7+3build1 [196 kB]\n",
            "Fetched 209 kB in 1s (355 kB/s)\n",
            "Selecting previously unselected package libxxf86dga1:amd64.\n",
            "(Reading database ... 146795 files and directories currently installed.)\n",
            "Preparing to unpack .../libxxf86dga1_2%3a1.1.4-1_amd64.deb ...\n",
            "Unpacking libxxf86dga1:amd64 (2:1.1.4-1) ...\n",
            "Selecting previously unselected package x11-utils.\n",
            "Preparing to unpack .../x11-utils_7.7+3build1_amd64.deb ...\n",
            "Unpacking x11-utils (7.7+3build1) ...\n",
            "Setting up libxxf86dga1:amd64 (2:1.1.4-1) ...\n",
            "Setting up x11-utils (7.7+3build1) ...\n",
            "Processing triggers for man-db (2.8.3-2ubuntu0.1) ...\n",
            "Processing triggers for libc-bin (2.27-3ubuntu1) ...\n",
            "/sbin/ldconfig.real: /usr/local/lib/python3.6/dist-packages/ideep4py/lib/libmkldnn.so.0 is not a symbolic link\n",
            "\n"
          ],
          "name": "stdout"
        }
      ]
    },
    {
      "cell_type": "markdown",
      "metadata": {
        "id": "g_hgxxphPvr-",
        "colab_type": "text"
      },
      "source": [
        "Cartpole"
      ]
    },
    {
      "cell_type": "code",
      "metadata": {
        "id": "3I0V0hG-c3ys",
        "colab_type": "code",
        "colab": {}
      },
      "source": [
        ""
      ],
      "execution_count": 0,
      "outputs": []
    },
    {
      "cell_type": "code",
      "metadata": {
        "id": "4B_K-un7Pydl",
        "colab_type": "code",
        "colab": {}
      },
      "source": [
        "import gym\n",
        "from gym import logger as gymlogger\n",
        "from gym.wrappers import Monitor\n",
        "gymlogger.set_level(40) #error only\n",
        "import tensorflow as tf\n",
        "import numpy as np\n",
        "import random\n",
        "import matplotlib\n",
        "import matplotlib.pyplot as plt\n",
        "%matplotlib inline\n",
        "import math\n",
        "import glob\n",
        "import io\n",
        "import base64\n",
        "from IPython.display import HTML\n",
        "\n",
        "from IPython import display as ipythondisplay"
      ],
      "execution_count": 0,
      "outputs": []
    },
    {
      "cell_type": "code",
      "metadata": {
        "id": "kEpluzk3VIP0",
        "colab_type": "code",
        "outputId": "ccd579c5-6b7e-42b2-8b3f-ee39a14b4839",
        "colab": {
          "base_uri": "https://localhost:8080/",
          "height": 54
        }
      },
      "source": [
        "from pyvirtualdisplay import Display\n",
        "display = Display(visible=0, size=(1400, 900))\n",
        "display.start() "
      ],
      "execution_count": 53,
      "outputs": [
        {
          "output_type": "execute_result",
          "data": {
            "text/plain": [
              "<Display cmd_param=['Xvfb', '-br', '-nolisten', 'tcp', '-screen', '0', '1400x900x24', ':1017'] cmd=['Xvfb', '-br', '-nolisten', 'tcp', '-screen', '0', '1400x900x24', ':1017'] oserror=None return_code=None stdout=\"None\" stderr=\"None\" timeout_happened=False>"
            ]
          },
          "metadata": {
            "tags": []
          },
          "execution_count": 53
        }
      ]
    },
    {
      "cell_type": "code",
      "metadata": {
        "id": "Hrw-DOfwV_k7",
        "colab_type": "code",
        "colab": {}
      },
      "source": [
        "\"\"\"\n",
        "Utility functions to enable video recording of gym environment and displaying it\n",
        "To enable video, just do \"env = wrap_env(env)\"\"\n",
        "\"\"\"\n",
        "\n",
        "def show_video():\n",
        "  mp4list = glob.glob('video/*.mp4')\n",
        "  if len(mp4list) > 0:\n",
        "    mp4 = mp4list[0]\n",
        "    video = io.open(mp4, 'r+b').read()\n",
        "    encoded = base64.b64encode(video)\n",
        "    ipythondisplay.display(HTML(data='''<video alt=\"test\" autoplay \n",
        "                \n",
        "                 controls style=\"height: 400px;\">\n",
        "                <source src=\"data:video/mp4;base64,{0}\" type=\"video/mp4\" />\n",
        "             </video>'''.format(encoded.decode('ascii'))))\n",
        "  else: \n",
        "    print(\"Could not find video\")\n",
        "    \n",
        "\n",
        "def wrap_env(env):\n",
        "  env = Monitor(env, './video', force=True)\n",
        "  return env"
      ],
      "execution_count": 0,
      "outputs": []
    },
    {
      "cell_type": "code",
      "metadata": {
        "id": "jcDkwgM9PziA",
        "colab_type": "code",
        "colab": {}
      },
      "source": [
        ""
      ],
      "execution_count": 0,
      "outputs": []
    },
    {
      "cell_type": "code",
      "metadata": {
        "id": "8mrTWUnjQBl2",
        "colab_type": "code",
        "colab": {}
      },
      "source": [
        ""
      ],
      "execution_count": 0,
      "outputs": []
    },
    {
      "cell_type": "code",
      "metadata": {
        "id": "Cqbhj6rERDWm",
        "colab_type": "code",
        "colab": {}
      },
      "source": [
        ""
      ],
      "execution_count": 0,
      "outputs": []
    },
    {
      "cell_type": "code",
      "metadata": {
        "id": "yc9R70abQESu",
        "colab_type": "code",
        "outputId": "3f101453-c8cf-42fe-fb3c-014c9f7fb15a",
        "colab": {
          "base_uri": "https://localhost:8080/",
          "height": 438
        }
      },
      "source": [
        "env = wrap_env(gym.make(\"CartPole-v1\"))\n",
        "observation = env.reset()\n",
        "#print(observation)\n",
        "loops = 100\n",
        "for i in range(loops):\n",
        "   env.render()\n",
        "   action = env.action_space.sample()\n",
        "   observation =env.step(action) # take a random action\n",
        "   #print(action, observation)\n",
        "   done = observation[2]\n",
        "   if done: \n",
        "        if i < loops :\n",
        "          print(\"Failed after %d loops with a pole angle of %2.2f degrees\" %( i, np.rad2deg(observation[0][2])))\n",
        "        else:\n",
        "          print(\"Finished after \", i, \" loops\")\n",
        "        env.reset()\n",
        "        break\n",
        "\n",
        "env.close()\n",
        "show_video()"
      ],
      "execution_count": 92,
      "outputs": [
        {
          "output_type": "stream",
          "text": [
            "Failed after 25 loops with a pole angle of 12.57 degrees\n"
          ],
          "name": "stdout"
        },
        {
          "output_type": "display_data",
          "data": {
            "text/html": [
              "<video alt=\"test\" autoplay \n",
              "                \n",
              "                 controls style=\"height: 400px;\">\n",
              "                <source src=\"data:video/mp4;base64,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\" type=\"video/mp4\" />\n",
              "             </video>"
            ],
            "text/plain": [
              "<IPython.core.display.HTML object>"
            ]
          },
          "metadata": {
            "tags": []
          }
        }
      ]
    },
    {
      "cell_type": "code",
      "metadata": {
        "id": "hnGbMXHYQMYf",
        "colab_type": "code",
        "colab": {}
      },
      "source": [
        "def proportional(r, p, g):\n",
        "    return (r-p)*g\n",
        "\n",
        "def controller(ctr,     pole_angle_ref, cart_position, cart_velocity, pole_angle, pole_velocity):\n",
        "    \n",
        "    pole_velocity_ref=proportional(pole_angle_ref, pole_angle, pole_angle_gain)\n",
        "    cart_position_ref=proportional(pole_velocity_ref, pole_velocity, pole_velocity_gain)\n",
        "    cart_velocity_ref=proportional(cart_position_ref, cart_position, cart_position_gain)\n",
        "    power=proportional(cart_velocity_ref, cart_velocity, cart_velocity_gain)\n",
        "    \n",
        "    if power>=0:\n",
        "        return 0\n",
        "    return 1\n",
        "\n",
        "def get_obs(observation):\n",
        "    cart_position = observation[0]\n",
        "    cart_velocity = observation[1]\n",
        "    pole_angle = observation[2]\n",
        "    pole_velocity = observation[3]\n",
        "    return cart_position,    cart_velocity ,    pole_angle , pole_velocity \n"
      ],
      "execution_count": 0,
      "outputs": []
    },
    {
      "cell_type": "code",
      "metadata": {
        "id": "YAOuEOe0lyVp",
        "colab_type": "code",
        "colab": {}
      },
      "source": [
        "reward = 0\n",
        "pole_angle_ref = 0\n",
        "\n",
        "loops = 2000\n",
        "pole_angle_gain = 1.8\n",
        "pole_velocity_gain = 1.8\n",
        "cart_position_gain = .5\n",
        "cart_velocity_gain = .001"
      ],
      "execution_count": 0,
      "outputs": []
    },
    {
      "cell_type": "code",
      "metadata": {
        "id": "T6CslocZl9n0",
        "colab_type": "code",
        "colab": {
          "base_uri": "https://localhost:8080/",
          "height": 455
        },
        "outputId": "5d025bbd-e744-48a5-948f-c18e9b7cd1e3"
      },
      "source": [
        "env = wrap_env(gym.make(\"CartPole-v1\"))\n",
        "env._max_episode_steps = 4000\n",
        "observation = env.reset()\n",
        "cart_position = observation[0]\n",
        "cart_velocity = observation[1]\n",
        "pole_angle = observation[2]\n",
        "pole_velocity = observation[3]\n",
        "for ctr in range(loops):\n",
        "    env.render()\n",
        "    #action= env.action_space.sample()\n",
        "    #print(action)\n",
        "    \n",
        "    action = controller(ctr, pole_angle_ref, cart_position, cart_velocity, pole_angle, pole_velocity)\n",
        "    \n",
        "    observation =env.step(action)    \n",
        "    #print(observation)\n",
        "    done = observation[2]\n",
        "    reward+=observation[1]\n",
        "    cart_position, cart_velocity, pole_angle, pole_velocity = get_obs(observation[0])\n",
        "    #print(cart_position)\n",
        "    if done: \n",
        "        print(observation)\n",
        "        break\n",
        " \n",
        "print(\"Reward \", reward)    \n",
        "\n",
        "env.close()\n",
        "show_video()"
      ],
      "execution_count": 91,
      "outputs": [
        {
          "output_type": "stream",
          "text": [
            "(array([ 0.01621908,  0.04037531,  0.00749049, -0.06127766]), 1.0, True, {'TimeLimit.truncated': True})\n",
            "Reward  500.0\n"
          ],
          "name": "stdout"
        },
        {
          "output_type": "display_data",
          "data": {
            "text/html": [
              "<video alt=\"test\" autoplay \n",
              "                \n",
              "                 controls style=\"height: 400px;\">\n",
              "                <source src=\"data:video/mp4;base64,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\" type=\"video/mp4\" />\n",
              "             </video>"
            ],
            "text/plain": [
              "<IPython.core.display.HTML object>"
            ]
          },
          "metadata": {
            "tags": []
          }
        }
      ]
    },
    {
      "cell_type": "code",
      "metadata": {
        "id": "j_qjCIYhmAfr",
        "colab_type": "code",
        "colab": {}
      },
      "source": [
        ""
      ],
      "execution_count": 0,
      "outputs": []
    }
  ]
}